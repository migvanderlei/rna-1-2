{
  "nbformat": 4,
  "nbformat_minor": 0,
  "metadata": {
    "colab": {
      "name": "rna-covid19-manaus.ipynb",
      "provenance": [],
      "collapsed_sections": []
    },
    "kernelspec": {
      "name": "python3",
      "display_name": "Python 3"
    },
    "language_info": {
      "name": "python"
    }
  },
  "cells": [
    {
      "cell_type": "code",
      "metadata": {
        "id": "Hl3VjwPSobSI"
      },
      "source": [
        "import pandas as pd"
      ],
      "execution_count": 1,
      "outputs": []
    },
    {
      "cell_type": "code",
      "metadata": {
        "colab": {
          "base_uri": "https://localhost:8080/"
        },
        "id": "0-33qrHJ92oj",
        "outputId": "376b8965-32c1-482c-92f2-5d5487f84fc0"
      },
      "source": [
        "data = pd.read_csv(\"https://covid19.manaus.am.gov.br/wp-content/uploads/Manaus.csv\", sep=';', \n",
        "                    parse_dates=['_dt_evolucao', '_dt_notificacao', '_dt_sintomas']\n",
        "                   )"
      ],
      "execution_count": 2,
      "outputs": [
        {
          "output_type": "stream",
          "name": "stderr",
          "text": [
            "/usr/local/lib/python3.7/dist-packages/IPython/core/interactiveshell.py:2718: DtypeWarning: Columns (6,7,8,9,10,11,12,13,14,15,16,17,18,22,23,26,27,28,29,30,31) have mixed types.Specify dtype option on import or set low_memory=False.\n",
            "  interactivity=interactivity, compiler=compiler, result=result)\n"
          ]
        }
      ]
    },
    {
      "cell_type": "code",
      "metadata": {
        "colab": {
          "base_uri": "https://localhost:8080/",
          "height": 326
        },
        "id": "Ublsw0at-Get",
        "outputId": "e33ce55d-5788-42be-fcf7-7780289887b8"
      },
      "source": [
        "data.head()"
      ],
      "execution_count": 3,
      "outputs": [
        {
          "output_type": "execute_result",
          "data": {
            "text/html": [
              "<div>\n",
              "<style scoped>\n",
              "    .dataframe tbody tr th:only-of-type {\n",
              "        vertical-align: middle;\n",
              "    }\n",
              "\n",
              "    .dataframe tbody tr th {\n",
              "        vertical-align: top;\n",
              "    }\n",
              "\n",
              "    .dataframe thead th {\n",
              "        text-align: right;\n",
              "    }\n",
              "</style>\n",
              "<table border=\"1\" class=\"dataframe\">\n",
              "  <thead>\n",
              "    <tr style=\"text-align: right;\">\n",
              "      <th></th>\n",
              "      <th>_dt_evolucao</th>\n",
              "      <th>_dt_notificacao</th>\n",
              "      <th>_dt_sintomas</th>\n",
              "      <th>_classificacao</th>\n",
              "      <th>_conclusao</th>\n",
              "      <th>_origem</th>\n",
              "      <th>_comorb_cardio</th>\n",
              "      <th>_comorb_cromossomica</th>\n",
              "      <th>_comorb_diabetes</th>\n",
              "      <th>_comorb_hemato</th>\n",
              "      <th>_comorb_hepatica</th>\n",
              "      <th>_comorb_imuno</th>\n",
              "      <th>_comorb_neurologica</th>\n",
              "      <th>_comorb_obessidade</th>\n",
              "      <th>_comorb_renal</th>\n",
              "      <th>_comorb_respiratoria</th>\n",
              "      <th>_criterio</th>\n",
              "      <th>_etnia</th>\n",
              "      <th>_evolução</th>\n",
              "      <th>_idade</th>\n",
              "      <th>_faixa etária</th>\n",
              "      <th>_gestante</th>\n",
              "      <th>_profiss_saude</th>\n",
              "      <th>_raca</th>\n",
              "      <th>_se_notificacao</th>\n",
              "      <th>_sexo</th>\n",
              "      <th>_sintoma_dispneia</th>\n",
              "      <th>_sintoma_febre</th>\n",
              "      <th>_sintoma_garganta</th>\n",
              "      <th>_sintoma_tosse</th>\n",
              "      <th>_sintoma_outros</th>\n",
              "      <th>_srag</th>\n",
              "      <th>_teste_anticorpo</th>\n",
              "      <th>_teste_antigeno</th>\n",
              "      <th>_teste_pcr</th>\n",
              "      <th>_bairro</th>\n",
              "      <th>_bairro_mapa</th>\n",
              "      <th>_distrito</th>\n",
              "      <th>_taxa</th>\n",
              "    </tr>\n",
              "  </thead>\n",
              "  <tbody>\n",
              "    <tr>\n",
              "      <th>0</th>\n",
              "      <td>2020-01-25</td>\n",
              "      <td>2020-03-01</td>\n",
              "      <td>2020-01-01</td>\n",
              "      <td>Descartado</td>\n",
              "      <td>Recuperado</td>\n",
              "      <td>SIVEP,</td>\n",
              "      <td>NaN</td>\n",
              "      <td>NaN</td>\n",
              "      <td>NaN</td>\n",
              "      <td>NaN</td>\n",
              "      <td>NaN</td>\n",
              "      <td>NaN</td>\n",
              "      <td>NaN</td>\n",
              "      <td>NaN</td>\n",
              "      <td>NaN</td>\n",
              "      <td>NaN</td>\n",
              "      <td>Laboratorial</td>\n",
              "      <td>NaN</td>\n",
              "      <td>Internado</td>\n",
              "      <td>4.0</td>\n",
              "      <td>1a - 4a</td>\n",
              "      <td>NaN</td>\n",
              "      <td>NaN</td>\n",
              "      <td>Parda</td>\n",
              "      <td>1.0</td>\n",
              "      <td>M</td>\n",
              "      <td>Sim</td>\n",
              "      <td>Sim</td>\n",
              "      <td>Sim</td>\n",
              "      <td>Sim</td>\n",
              "      <td>Sim</td>\n",
              "      <td>SRAG não especificado</td>\n",
              "      <td>NaN</td>\n",
              "      <td>NaN</td>\n",
              "      <td>NaN</td>\n",
              "      <td>TARUMA</td>\n",
              "      <td>TARUMÃ</td>\n",
              "      <td>OESTE</td>\n",
              "      <td>0,243042897</td>\n",
              "    </tr>\n",
              "    <tr>\n",
              "      <th>1</th>\n",
              "      <td>2020-03-01</td>\n",
              "      <td>2020-03-01</td>\n",
              "      <td>2020-01-01</td>\n",
              "      <td>Descartado</td>\n",
              "      <td>Óbito</td>\n",
              "      <td>SIVEP,</td>\n",
              "      <td>NaN</td>\n",
              "      <td>NaN</td>\n",
              "      <td>NaN</td>\n",
              "      <td>NaN</td>\n",
              "      <td>NaN</td>\n",
              "      <td>NaN</td>\n",
              "      <td>NaN</td>\n",
              "      <td>NaN</td>\n",
              "      <td>NaN</td>\n",
              "      <td>NaN</td>\n",
              "      <td>Laboratorial</td>\n",
              "      <td>NaN</td>\n",
              "      <td>Internado</td>\n",
              "      <td>26.0</td>\n",
              "      <td>20a - 29a</td>\n",
              "      <td>NaN</td>\n",
              "      <td>NaN</td>\n",
              "      <td>Parda</td>\n",
              "      <td>1.0</td>\n",
              "      <td>F</td>\n",
              "      <td>Sim</td>\n",
              "      <td>Sim</td>\n",
              "      <td>Sim</td>\n",
              "      <td>Sim</td>\n",
              "      <td>Sim</td>\n",
              "      <td>Influenza B</td>\n",
              "      <td>NaN</td>\n",
              "      <td>NaN</td>\n",
              "      <td>NaN</td>\n",
              "      <td>TARUMA-ACU</td>\n",
              "      <td>TARUMÃ-AÇÚ</td>\n",
              "      <td>OESTE</td>\n",
              "      <td>0,684931507</td>\n",
              "    </tr>\n",
              "    <tr>\n",
              "      <th>2</th>\n",
              "      <td>2020-05-01</td>\n",
              "      <td>2020-03-01</td>\n",
              "      <td>2020-03-01</td>\n",
              "      <td>Descartado</td>\n",
              "      <td>Óbito</td>\n",
              "      <td>SIVEP,</td>\n",
              "      <td>NaN</td>\n",
              "      <td>NaN</td>\n",
              "      <td>NaN</td>\n",
              "      <td>NaN</td>\n",
              "      <td>NaN</td>\n",
              "      <td>NaN</td>\n",
              "      <td>NaN</td>\n",
              "      <td>NaN</td>\n",
              "      <td>NaN</td>\n",
              "      <td>NaN</td>\n",
              "      <td>Laboratorial</td>\n",
              "      <td>NaN</td>\n",
              "      <td>Internado em UTI</td>\n",
              "      <td>27.0</td>\n",
              "      <td>20a - 29a</td>\n",
              "      <td>NaN</td>\n",
              "      <td>NaN</td>\n",
              "      <td>Parda</td>\n",
              "      <td>1.0</td>\n",
              "      <td>M</td>\n",
              "      <td>Sim</td>\n",
              "      <td>Sim</td>\n",
              "      <td>Sim</td>\n",
              "      <td>Sim</td>\n",
              "      <td>Sim</td>\n",
              "      <td>SRAG não especificado</td>\n",
              "      <td>NaN</td>\n",
              "      <td>NaN</td>\n",
              "      <td>NaN</td>\n",
              "      <td>JORGE TEIXEIRA</td>\n",
              "      <td>JORGE TEIXEIRA</td>\n",
              "      <td>LESTE</td>\n",
              "      <td>0,073137374</td>\n",
              "    </tr>\n",
              "    <tr>\n",
              "      <th>3</th>\n",
              "      <td>2020-01-16</td>\n",
              "      <td>2020-08-01</td>\n",
              "      <td>2020-04-01</td>\n",
              "      <td>Descartado</td>\n",
              "      <td>Óbito</td>\n",
              "      <td>SIVEP,</td>\n",
              "      <td>NaN</td>\n",
              "      <td>NaN</td>\n",
              "      <td>NaN</td>\n",
              "      <td>NaN</td>\n",
              "      <td>NaN</td>\n",
              "      <td>NaN</td>\n",
              "      <td>NaN</td>\n",
              "      <td>NaN</td>\n",
              "      <td>NaN</td>\n",
              "      <td>NaN</td>\n",
              "      <td>Laboratorial</td>\n",
              "      <td>NaN</td>\n",
              "      <td>Internado em UTI</td>\n",
              "      <td>94.0</td>\n",
              "      <td>80a ou +</td>\n",
              "      <td>NaN</td>\n",
              "      <td>NaN</td>\n",
              "      <td>Parda</td>\n",
              "      <td>2.0</td>\n",
              "      <td>M</td>\n",
              "      <td>Sim</td>\n",
              "      <td>Sim</td>\n",
              "      <td>Sim</td>\n",
              "      <td>Sim</td>\n",
              "      <td>Sim</td>\n",
              "      <td>SRAG não especificado</td>\n",
              "      <td>NaN</td>\n",
              "      <td>NaN</td>\n",
              "      <td>NaN</td>\n",
              "      <td>FLORES</td>\n",
              "      <td>FLORES</td>\n",
              "      <td>SUL</td>\n",
              "      <td>0,198306463</td>\n",
              "    </tr>\n",
              "    <tr>\n",
              "      <th>4</th>\n",
              "      <td>2020-11-01</td>\n",
              "      <td>2020-08-01</td>\n",
              "      <td>2020-05-01</td>\n",
              "      <td>Descartado</td>\n",
              "      <td>Recuperado</td>\n",
              "      <td>SIVEP,</td>\n",
              "      <td>NaN</td>\n",
              "      <td>NaN</td>\n",
              "      <td>NaN</td>\n",
              "      <td>NaN</td>\n",
              "      <td>NaN</td>\n",
              "      <td>NaN</td>\n",
              "      <td>NaN</td>\n",
              "      <td>NaN</td>\n",
              "      <td>NaN</td>\n",
              "      <td>NaN</td>\n",
              "      <td>Laboratorial</td>\n",
              "      <td>NaN</td>\n",
              "      <td>Internado</td>\n",
              "      <td>0.0</td>\n",
              "      <td>&lt; 1a</td>\n",
              "      <td>NaN</td>\n",
              "      <td>NaN</td>\n",
              "      <td>Parda</td>\n",
              "      <td>2.0</td>\n",
              "      <td>M</td>\n",
              "      <td>Sim</td>\n",
              "      <td>Sim</td>\n",
              "      <td>NaN</td>\n",
              "      <td>Sim</td>\n",
              "      <td>Sim</td>\n",
              "      <td>SRAG não especificado</td>\n",
              "      <td>NaN</td>\n",
              "      <td>NaN</td>\n",
              "      <td>NaN</td>\n",
              "      <td>CIDADE DE DEUS</td>\n",
              "      <td>CIDADE DE DEUS</td>\n",
              "      <td>NORTE</td>\n",
              "      <td>0,117699678</td>\n",
              "    </tr>\n",
              "  </tbody>\n",
              "</table>\n",
              "</div>"
            ],
            "text/plain": [
              "  _dt_evolucao _dt_notificacao  ... _distrito        _taxa\n",
              "0   2020-01-25      2020-03-01  ...     OESTE  0,243042897\n",
              "1   2020-03-01      2020-03-01  ...     OESTE  0,684931507\n",
              "2   2020-05-01      2020-03-01  ...     LESTE  0,073137374\n",
              "3   2020-01-16      2020-08-01  ...       SUL  0,198306463\n",
              "4   2020-11-01      2020-08-01  ...     NORTE  0,117699678\n",
              "\n",
              "[5 rows x 39 columns]"
            ]
          },
          "metadata": {},
          "execution_count": 3
        }
      ]
    },
    {
      "cell_type": "markdown",
      "metadata": {
        "id": "aGJjrcsgZQ3G"
      },
      "source": [
        "# Visão Geral dos Casos Confirmados"
      ]
    },
    {
      "cell_type": "markdown",
      "metadata": {
        "id": "myGDMeaeZfG1"
      },
      "source": [
        "Filtrando apenas casos confirmados"
      ]
    },
    {
      "cell_type": "code",
      "metadata": {
        "colab": {
          "base_uri": "https://localhost:8080/"
        },
        "id": "12eab1ANZeTi",
        "outputId": "cb37e2bc-434b-46fb-f416-25a3583438c8"
      },
      "source": [
        "data['_classificacao'].value_counts()"
      ],
      "execution_count": 4,
      "outputs": [
        {
          "output_type": "execute_result",
          "data": {
            "text/plain": [
              "Descartado    126563\n",
              "Confirmado     80420\n",
              "Em análise     37001\n",
              "Name: _classificacao, dtype: int64"
            ]
          },
          "metadata": {},
          "execution_count": 4
        }
      ]
    },
    {
      "cell_type": "code",
      "metadata": {
        "id": "x-OvTBCkZqz8"
      },
      "source": [
        "data = data[data['_classificacao'] == 'Confirmado']"
      ],
      "execution_count": 5,
      "outputs": []
    },
    {
      "cell_type": "code",
      "metadata": {
        "colab": {
          "base_uri": "https://localhost:8080/",
          "height": 343
        },
        "id": "7eb5d8kPZ0hC",
        "outputId": "98ac67e1-2b88-4c42-bfc7-6b405474eec8"
      },
      "source": [
        "data.sample(5)"
      ],
      "execution_count": 6,
      "outputs": [
        {
          "output_type": "execute_result",
          "data": {
            "text/html": [
              "<div>\n",
              "<style scoped>\n",
              "    .dataframe tbody tr th:only-of-type {\n",
              "        vertical-align: middle;\n",
              "    }\n",
              "\n",
              "    .dataframe tbody tr th {\n",
              "        vertical-align: top;\n",
              "    }\n",
              "\n",
              "    .dataframe thead th {\n",
              "        text-align: right;\n",
              "    }\n",
              "</style>\n",
              "<table border=\"1\" class=\"dataframe\">\n",
              "  <thead>\n",
              "    <tr style=\"text-align: right;\">\n",
              "      <th></th>\n",
              "      <th>_dt_evolucao</th>\n",
              "      <th>_dt_notificacao</th>\n",
              "      <th>_dt_sintomas</th>\n",
              "      <th>_classificacao</th>\n",
              "      <th>_conclusao</th>\n",
              "      <th>_origem</th>\n",
              "      <th>_comorb_cardio</th>\n",
              "      <th>_comorb_cromossomica</th>\n",
              "      <th>_comorb_diabetes</th>\n",
              "      <th>_comorb_hemato</th>\n",
              "      <th>_comorb_hepatica</th>\n",
              "      <th>_comorb_imuno</th>\n",
              "      <th>_comorb_neurologica</th>\n",
              "      <th>_comorb_obessidade</th>\n",
              "      <th>_comorb_renal</th>\n",
              "      <th>_comorb_respiratoria</th>\n",
              "      <th>_criterio</th>\n",
              "      <th>_etnia</th>\n",
              "      <th>_evolução</th>\n",
              "      <th>_idade</th>\n",
              "      <th>_faixa etária</th>\n",
              "      <th>_gestante</th>\n",
              "      <th>_profiss_saude</th>\n",
              "      <th>_raca</th>\n",
              "      <th>_se_notificacao</th>\n",
              "      <th>_sexo</th>\n",
              "      <th>_sintoma_dispneia</th>\n",
              "      <th>_sintoma_febre</th>\n",
              "      <th>_sintoma_garganta</th>\n",
              "      <th>_sintoma_tosse</th>\n",
              "      <th>_sintoma_outros</th>\n",
              "      <th>_srag</th>\n",
              "      <th>_teste_anticorpo</th>\n",
              "      <th>_teste_antigeno</th>\n",
              "      <th>_teste_pcr</th>\n",
              "      <th>_bairro</th>\n",
              "      <th>_bairro_mapa</th>\n",
              "      <th>_distrito</th>\n",
              "      <th>_taxa</th>\n",
              "    </tr>\n",
              "  </thead>\n",
              "  <tbody>\n",
              "    <tr>\n",
              "      <th>102290</th>\n",
              "      <td>NaT</td>\n",
              "      <td>2020-11-26</td>\n",
              "      <td>2020-01-11</td>\n",
              "      <td>Confirmado</td>\n",
              "      <td>NaN</td>\n",
              "      <td>eSUS VE,</td>\n",
              "      <td>NaN</td>\n",
              "      <td>NaN</td>\n",
              "      <td>NaN</td>\n",
              "      <td>NaN</td>\n",
              "      <td>NaN</td>\n",
              "      <td>NaN</td>\n",
              "      <td>NaN</td>\n",
              "      <td>NaN</td>\n",
              "      <td>NaN</td>\n",
              "      <td>NaN</td>\n",
              "      <td>NaN</td>\n",
              "      <td>NaN</td>\n",
              "      <td>NaN</td>\n",
              "      <td>38.0</td>\n",
              "      <td>30a - 39a</td>\n",
              "      <td>NaN</td>\n",
              "      <td>NaN</td>\n",
              "      <td>Parda</td>\n",
              "      <td>48.0</td>\n",
              "      <td>F</td>\n",
              "      <td>NaN</td>\n",
              "      <td>NaN</td>\n",
              "      <td>NaN</td>\n",
              "      <td>NaN</td>\n",
              "      <td>NaN</td>\n",
              "      <td>NaN</td>\n",
              "      <td>1.0</td>\n",
              "      <td>NaN</td>\n",
              "      <td>NaN</td>\n",
              "      <td>CIDADE NOVA</td>\n",
              "      <td>CIDADE NOVA</td>\n",
              "      <td>NORTE</td>\n",
              "      <td>0,068152389</td>\n",
              "    </tr>\n",
              "    <tr>\n",
              "      <th>243737</th>\n",
              "      <td>NaT</td>\n",
              "      <td>2020-11-26</td>\n",
              "      <td>NaT</td>\n",
              "      <td>Confirmado</td>\n",
              "      <td>NaN</td>\n",
              "      <td>GAL</td>\n",
              "      <td>NaN</td>\n",
              "      <td>NaN</td>\n",
              "      <td>NaN</td>\n",
              "      <td>NaN</td>\n",
              "      <td>NaN</td>\n",
              "      <td>NaN</td>\n",
              "      <td>NaN</td>\n",
              "      <td>NaN</td>\n",
              "      <td>NaN</td>\n",
              "      <td>NaN</td>\n",
              "      <td>NaN</td>\n",
              "      <td>NaN</td>\n",
              "      <td>NaN</td>\n",
              "      <td>36.0</td>\n",
              "      <td>30a - 39a</td>\n",
              "      <td>NaN</td>\n",
              "      <td>NaN</td>\n",
              "      <td>NaN</td>\n",
              "      <td>48.0</td>\n",
              "      <td>F</td>\n",
              "      <td>NaN</td>\n",
              "      <td>NaN</td>\n",
              "      <td>NaN</td>\n",
              "      <td>NaN</td>\n",
              "      <td>NaN</td>\n",
              "      <td>NaN</td>\n",
              "      <td>NaN</td>\n",
              "      <td>NaN</td>\n",
              "      <td>1.0</td>\n",
              "      <td>JAPIM 2</td>\n",
              "      <td>JAPIIM</td>\n",
              "      <td>SUL</td>\n",
              "      <td>0,173837462</td>\n",
              "    </tr>\n",
              "    <tr>\n",
              "      <th>112282</th>\n",
              "      <td>2020-10-06</td>\n",
              "      <td>2020-10-06</td>\n",
              "      <td>2020-01-05</td>\n",
              "      <td>Confirmado</td>\n",
              "      <td>Recuperado</td>\n",
              "      <td>eSUS VE,</td>\n",
              "      <td>NaN</td>\n",
              "      <td>NaN</td>\n",
              "      <td>NaN</td>\n",
              "      <td>NaN</td>\n",
              "      <td>NaN</td>\n",
              "      <td>NaN</td>\n",
              "      <td>NaN</td>\n",
              "      <td>NaN</td>\n",
              "      <td>NaN</td>\n",
              "      <td>NaN</td>\n",
              "      <td>NaN</td>\n",
              "      <td>NaN</td>\n",
              "      <td>NaN</td>\n",
              "      <td>57.0</td>\n",
              "      <td>50a - 59a</td>\n",
              "      <td>NaN</td>\n",
              "      <td>NaN</td>\n",
              "      <td>Parda</td>\n",
              "      <td>24.0</td>\n",
              "      <td>M</td>\n",
              "      <td>NaN</td>\n",
              "      <td>Sim</td>\n",
              "      <td>NaN</td>\n",
              "      <td>NaN</td>\n",
              "      <td>NaN</td>\n",
              "      <td>NaN</td>\n",
              "      <td>1.0</td>\n",
              "      <td>NaN</td>\n",
              "      <td>NaN</td>\n",
              "      <td>ZUMBI DOS PALMARES</td>\n",
              "      <td>ZUMBI DOS PALMARES</td>\n",
              "      <td>LESTE</td>\n",
              "      <td>0,234807927</td>\n",
              "    </tr>\n",
              "    <tr>\n",
              "      <th>163756</th>\n",
              "      <td>2020-09-11</td>\n",
              "      <td>2020-10-23</td>\n",
              "      <td>2020-10-20</td>\n",
              "      <td>Confirmado</td>\n",
              "      <td>Recuperado</td>\n",
              "      <td>eSUS VE,</td>\n",
              "      <td>NaN</td>\n",
              "      <td>NaN</td>\n",
              "      <td>NaN</td>\n",
              "      <td>NaN</td>\n",
              "      <td>NaN</td>\n",
              "      <td>NaN</td>\n",
              "      <td>NaN</td>\n",
              "      <td>NaN</td>\n",
              "      <td>NaN</td>\n",
              "      <td>NaN</td>\n",
              "      <td>NaN</td>\n",
              "      <td>NaN</td>\n",
              "      <td>Em tratamento domiciliar</td>\n",
              "      <td>49.0</td>\n",
              "      <td>40a - 49a</td>\n",
              "      <td>NaN</td>\n",
              "      <td>NaN</td>\n",
              "      <td>Ignorado</td>\n",
              "      <td>43.0</td>\n",
              "      <td>M</td>\n",
              "      <td>NaN</td>\n",
              "      <td>NaN</td>\n",
              "      <td>NaN</td>\n",
              "      <td>Sim</td>\n",
              "      <td>Sim</td>\n",
              "      <td>NaN</td>\n",
              "      <td>NaN</td>\n",
              "      <td>NaN</td>\n",
              "      <td>1.0</td>\n",
              "      <td>PONTA NEGRA</td>\n",
              "      <td>PONTA NEGRA</td>\n",
              "      <td>OESTE</td>\n",
              "      <td>1,648804617</td>\n",
              "    </tr>\n",
              "    <tr>\n",
              "      <th>225175</th>\n",
              "      <td>2020-07-23</td>\n",
              "      <td>2020-10-12</td>\n",
              "      <td>2020-02-12</td>\n",
              "      <td>Confirmado</td>\n",
              "      <td>NaN</td>\n",
              "      <td>eSUS VE,</td>\n",
              "      <td>NaN</td>\n",
              "      <td>NaN</td>\n",
              "      <td>NaN</td>\n",
              "      <td>NaN</td>\n",
              "      <td>NaN</td>\n",
              "      <td>NaN</td>\n",
              "      <td>NaN</td>\n",
              "      <td>NaN</td>\n",
              "      <td>NaN</td>\n",
              "      <td>NaN</td>\n",
              "      <td>NaN</td>\n",
              "      <td>NaN</td>\n",
              "      <td>NaN</td>\n",
              "      <td>32.0</td>\n",
              "      <td>30a - 39a</td>\n",
              "      <td>NaN</td>\n",
              "      <td>NaN</td>\n",
              "      <td>Branca</td>\n",
              "      <td>50.0</td>\n",
              "      <td>F</td>\n",
              "      <td>NaN</td>\n",
              "      <td>NaN</td>\n",
              "      <td>NaN</td>\n",
              "      <td>NaN</td>\n",
              "      <td>NaN</td>\n",
              "      <td>NaN</td>\n",
              "      <td>1.0</td>\n",
              "      <td>NaN</td>\n",
              "      <td>NaN</td>\n",
              "      <td>REDENÇÃO</td>\n",
              "      <td>REDENÇÃO</td>\n",
              "      <td>OESTE</td>\n",
              "      <td>0,234763828</td>\n",
              "    </tr>\n",
              "  </tbody>\n",
              "</table>\n",
              "</div>"
            ],
            "text/plain": [
              "       _dt_evolucao _dt_notificacao  ... _distrito        _taxa\n",
              "102290          NaT      2020-11-26  ...     NORTE  0,068152389\n",
              "243737          NaT      2020-11-26  ...       SUL  0,173837462\n",
              "112282   2020-10-06      2020-10-06  ...     LESTE  0,234807927\n",
              "163756   2020-09-11      2020-10-23  ...     OESTE  1,648804617\n",
              "225175   2020-07-23      2020-10-12  ...     OESTE  0,234763828\n",
              "\n",
              "[5 rows x 39 columns]"
            ]
          },
          "metadata": {},
          "execution_count": 6
        }
      ]
    },
    {
      "cell_type": "markdown",
      "metadata": {
        "id": "pg7qU-k5aCCz"
      },
      "source": [
        "**Quantos atributos descrevem cada exemplo? Quais são eles?**"
      ]
    },
    {
      "cell_type": "code",
      "metadata": {
        "colab": {
          "base_uri": "https://localhost:8080/"
        },
        "id": "2LWRujb2Z-lK",
        "outputId": "28b619c5-4f06-4620-91b5-642aa85ca4b1"
      },
      "source": [
        "data.info()"
      ],
      "execution_count": 7,
      "outputs": [
        {
          "output_type": "stream",
          "name": "stdout",
          "text": [
            "<class 'pandas.core.frame.DataFrame'>\n",
            "Int64Index: 80420 entries, 130 to 243982\n",
            "Data columns (total 39 columns):\n",
            " #   Column                Non-Null Count  Dtype         \n",
            "---  ------                --------------  -----         \n",
            " 0   _dt_evolucao          47739 non-null  datetime64[ns]\n",
            " 1   _dt_notificacao       80395 non-null  datetime64[ns]\n",
            " 2   _dt_sintomas          78922 non-null  datetime64[ns]\n",
            " 3   _classificacao        80420 non-null  object        \n",
            " 4   _conclusao            42774 non-null  object        \n",
            " 5   _origem               80420 non-null  object        \n",
            " 6   _comorb_cardio        6071 non-null   object        \n",
            " 7   _comorb_cromossomica  185 non-null    object        \n",
            " 8   _comorb_diabetes      4763 non-null   object        \n",
            " 9   _comorb_hemato        100 non-null    object        \n",
            " 10  _comorb_hepatica      84 non-null     object        \n",
            " 11  _comorb_imuno         813 non-null    object        \n",
            " 12  _comorb_neurologica   297 non-null    object        \n",
            " 13  _comorb_obessidade    392 non-null    object        \n",
            " 14  _comorb_renal         550 non-null    object        \n",
            " 15  _comorb_respiratoria  2096 non-null   object        \n",
            " 16  _criterio             8842 non-null   object        \n",
            " 17  _etnia                25 non-null     object        \n",
            " 18  _evolução             11083 non-null  object        \n",
            " 19  _idade                80395 non-null  float64       \n",
            " 20  _faixa etária         80395 non-null  object        \n",
            " 21  _gestante             638 non-null    object        \n",
            " 22  _profiss_saude        6461 non-null   object        \n",
            " 23  _raca                 70367 non-null  object        \n",
            " 24  _se_notificacao       80395 non-null  float64       \n",
            " 25  _sexo                 80301 non-null  object        \n",
            " 26  _sintoma_dispneia     23348 non-null  object        \n",
            " 27  _sintoma_febre        40421 non-null  object        \n",
            " 28  _sintoma_garganta     25097 non-null  object        \n",
            " 29  _sintoma_tosse        40554 non-null  object        \n",
            " 30  _sintoma_outros       36378 non-null  object        \n",
            " 31  _srag                 9095 non-null   object        \n",
            " 32  _teste_anticorpo      52177 non-null  float64       \n",
            " 33  _teste_antigeno       8342 non-null   float64       \n",
            " 34  _teste_pcr            23308 non-null  float64       \n",
            " 35  _bairro               79649 non-null  object        \n",
            " 36  _bairro_mapa          76699 non-null  object        \n",
            " 37  _distrito             76699 non-null  object        \n",
            " 38  _taxa                 76699 non-null  object        \n",
            "dtypes: datetime64[ns](3), float64(5), object(31)\n",
            "memory usage: 24.5+ MB\n"
          ]
        }
      ]
    },
    {
      "cell_type": "markdown",
      "metadata": {
        "id": "ZCdQ-fbthmHH"
      },
      "source": [
        "**Quantos casos confirmados há em Manaus, cumulativamente?**\n",
        "\n",
        "80.420"
      ]
    },
    {
      "cell_type": "markdown",
      "metadata": {
        "id": "C7Vjq9BGhuWb"
      },
      "source": [
        "**A qual período de tempo a base de dados se refere, isto é, qual o registro mais antigo e qual o mais recente? Leve em conta a data de notificação.**"
      ]
    },
    {
      "cell_type": "markdown",
      "metadata": {
        "id": "tVvVduzrjc5D"
      },
      "source": [
        "Caso mais antigo: 04/01/2020"
      ]
    },
    {
      "cell_type": "code",
      "metadata": {
        "colab": {
          "base_uri": "https://localhost:8080/"
        },
        "id": "OmpCVh-chZ-X",
        "outputId": "8d5402ee-762e-4318-f5e8-b6d66867efb9"
      },
      "source": [
        "data['_dt_notificacao'].min()"
      ],
      "execution_count": 8,
      "outputs": [
        {
          "output_type": "execute_result",
          "data": {
            "text/plain": [
              "Timestamp('2020-01-04 00:00:00')"
            ]
          },
          "metadata": {},
          "execution_count": 8
        }
      ]
    },
    {
      "cell_type": "markdown",
      "metadata": {
        "id": "SP31Y2VJjkDE"
      },
      "source": [
        "Caso mais recente: 29/12/2020"
      ]
    },
    {
      "cell_type": "code",
      "metadata": {
        "colab": {
          "base_uri": "https://localhost:8080/"
        },
        "id": "gH-FBk7XjRT4",
        "outputId": "71e8d1e9-060f-445e-f331-9d285757ba67"
      },
      "source": [
        "data['_dt_notificacao'].max()"
      ],
      "execution_count": 9,
      "outputs": [
        {
          "output_type": "execute_result",
          "data": {
            "text/plain": [
              "Timestamp('2020-12-29 00:00:00')"
            ]
          },
          "metadata": {},
          "execution_count": 9
        }
      ]
    },
    {
      "cell_type": "markdown",
      "metadata": {
        "id": "97O8X_QPk9vu"
      },
      "source": [
        "# Limpeza de dados\n",
        "\n",
        "Vamos remover atributos que não são úteis para as análises propostas neste projeto, assim como remover linhas em que aparecem campos vazios (`NaN`, `NaT`)."
      ]
    },
    {
      "cell_type": "markdown",
      "metadata": {
        "id": "6DTphOi1rTfp"
      },
      "source": [
        "Removendo colunas com informações irrelevantes, o que inclui: `_dt_evolucao`, `_dt_sintomas`, `_profiss_saude`, `_etnia`, `_raca`, `_gestante`, `_se_notificacao`, `_srag`, `_taxa`, `_criterio`, `_origem`, `_evolução` e todas as colunas que começam com `_sintoma` ou `_comorb`.\n"
      ]
    },
    {
      "cell_type": "code",
      "metadata": {
        "id": "1E11lsUuyY9s"
      },
      "source": [
        "data['_teste_anticorpo'].fillna(0, inplace = True)\n",
        "data['_teste_antigeno'].fillna(0, inplace = True)\n",
        "data['_teste_pcr'].fillna(0, inplace = True)\n"
      ],
      "execution_count": 11,
      "outputs": []
    },
    {
      "cell_type": "code",
      "metadata": {
        "id": "2VnJr--HlB4U"
      },
      "source": [
        "columns_to_remove = ['_dt_evolucao', '_dt_sintomas', '_profiss_saude', \n",
        "                     '_etnia', '_raca', '_gestante', '_se_notificacao', \n",
        "                     '_srag', '_taxa', '_criterio', '_origem', '_evolução']\n",
        "\n",
        "columns_to_remove += [\n",
        "                        column for column in data.columns \n",
        "                        if column.startswith('_sintoma') \n",
        "                        or column.startswith('_comorb') \n",
        "                      ]"
      ],
      "execution_count": 12,
      "outputs": []
    },
    {
      "cell_type": "code",
      "metadata": {
        "id": "11dyDYhMrKqy"
      },
      "source": [
        "data = data.drop(columns_to_remove, axis=1)"
      ],
      "execution_count": 13,
      "outputs": []
    },
    {
      "cell_type": "markdown",
      "metadata": {
        "id": "jQPXKFQernYu"
      },
      "source": [
        "Removendo todas as linhas que possuem valores nulos, como `NaN` e `NaT` (para os casos de colunas com dados temporais)."
      ]
    },
    {
      "cell_type": "code",
      "metadata": {
        "id": "EfAX2cxErRVm"
      },
      "source": [
        "data = data.dropna()"
      ],
      "execution_count": 14,
      "outputs": []
    },
    {
      "cell_type": "code",
      "metadata": {
        "id": "8ERUjznRvJR9"
      },
      "source": [
        "data.to_csv('Manaus-preprocessed.csv', sep=';')"
      ],
      "execution_count": 15,
      "outputs": []
    },
    {
      "cell_type": "markdown",
      "metadata": {
        "id": "-z_Kw3e3vC0p"
      },
      "source": [
        "# Análises pós-limpeza"
      ]
    },
    {
      "cell_type": "code",
      "metadata": {
        "colab": {
          "base_uri": "https://localhost:8080/"
        },
        "id": "yrbEqAy3r2av",
        "outputId": "a345007a-b61d-477e-91d2-b3b4448d1fc6"
      },
      "source": [
        "data.info()"
      ],
      "execution_count": 16,
      "outputs": [
        {
          "output_type": "stream",
          "name": "stdout",
          "text": [
            "<class 'pandas.core.frame.DataFrame'>\n",
            "Int64Index: 41675 entries, 130 to 225161\n",
            "Data columns (total 12 columns):\n",
            " #   Column            Non-Null Count  Dtype         \n",
            "---  ------            --------------  -----         \n",
            " 0   _dt_notificacao   41675 non-null  datetime64[ns]\n",
            " 1   _classificacao    41675 non-null  object        \n",
            " 2   _conclusao        41675 non-null  object        \n",
            " 3   _idade            41675 non-null  float64       \n",
            " 4   _faixa etária     41675 non-null  object        \n",
            " 5   _sexo             41675 non-null  object        \n",
            " 6   _teste_anticorpo  41675 non-null  float64       \n",
            " 7   _teste_antigeno   41675 non-null  float64       \n",
            " 8   _teste_pcr        41675 non-null  float64       \n",
            " 9   _bairro           41675 non-null  object        \n",
            " 10  _bairro_mapa      41675 non-null  object        \n",
            " 11  _distrito         41675 non-null  object        \n",
            "dtypes: datetime64[ns](1), float64(4), object(7)\n",
            "memory usage: 4.1+ MB\n"
          ]
        }
      ]
    },
    {
      "cell_type": "code",
      "metadata": {
        "id": "eCaDZf35ibh_"
      },
      "source": [
        "data = pd.read_csv('Manaus-preprocessed.csv', sep=';')"
      ],
      "execution_count": 17,
      "outputs": []
    },
    {
      "cell_type": "markdown",
      "metadata": {
        "id": "8k_gTQeBmzcT"
      },
      "source": [
        "**Qual a porcentagem de indivíduos recuperados em relação ao todo?**\n",
        "\n",
        "91,89%"
      ]
    },
    {
      "cell_type": "code",
      "metadata": {
        "colab": {
          "base_uri": "https://localhost:8080/"
        },
        "id": "5X6iVNiFlgYL",
        "outputId": "3c9a99d8-8ea6-44cd-b2b4-6170ffb17a3e"
      },
      "source": [
        "\n",
        "data[\"_conclusao\"].value_counts(normalize=True) * 100"
      ],
      "execution_count": 18,
      "outputs": [
        {
          "output_type": "execute_result",
          "data": {
            "text/plain": [
              "Recuperado                 91.892022\n",
              "Óbito                       7.973605\n",
              "Óbito por outras causas     0.134373\n",
              "Name: _conclusao, dtype: float64"
            ]
          },
          "metadata": {},
          "execution_count": 18
        }
      ]
    },
    {
      "cell_type": "markdown",
      "metadata": {
        "id": "MWLvfZFCnKmh"
      },
      "source": [
        "**Os casos acometeram mais indivíduos do sexo masculino ou feminino?**\n",
        "\n",
        "Feminino"
      ]
    },
    {
      "cell_type": "code",
      "metadata": {
        "colab": {
          "base_uri": "https://localhost:8080/"
        },
        "id": "D9oSzcY4jtP1",
        "outputId": "e12591c9-32ab-426a-e29f-4f64644a6e9f"
      },
      "source": [
        "data.groupby(by=\"_sexo\").size()"
      ],
      "execution_count": 19,
      "outputs": [
        {
          "output_type": "execute_result",
          "data": {
            "text/plain": [
              "_sexo\n",
              "F    22357\n",
              "M    19318\n",
              "dtype: int64"
            ]
          },
          "metadata": {},
          "execution_count": 19
        }
      ]
    },
    {
      "cell_type": "markdown",
      "metadata": {
        "id": "8w03n9kmnSVv"
      },
      "source": [
        "**Qual a média e desvio padrão de idade dos indivíduos que contraíram COVID-19? Qual o indivíduo mais jovem e o mais idoso a contraírem tal enfermidade?**\n",
        "\n",
        "Média: 43,48\n",
        "\n",
        "Desvio Padrão: 17,38\n",
        "\n",
        "Indivíduo mais jovem: 0\n",
        "\n",
        "Indivíduo mais idoso: 120"
      ]
    },
    {
      "cell_type": "code",
      "metadata": {
        "colab": {
          "base_uri": "https://localhost:8080/"
        },
        "id": "Jc2Ci_klmKFf",
        "outputId": "7f4047bc-6116-4d85-c564-a53102f80319"
      },
      "source": [
        "data['_idade'].mean()"
      ],
      "execution_count": 20,
      "outputs": [
        {
          "output_type": "execute_result",
          "data": {
            "text/plain": [
              "43.47652069586083"
            ]
          },
          "metadata": {},
          "execution_count": 20
        }
      ]
    },
    {
      "cell_type": "code",
      "metadata": {
        "colab": {
          "base_uri": "https://localhost:8080/"
        },
        "id": "Sry4P44GmM-u",
        "outputId": "9dd8d596-150c-4e9d-d2e7-789a59c1adb5"
      },
      "source": [
        "data['_idade'].std()"
      ],
      "execution_count": 21,
      "outputs": [
        {
          "output_type": "execute_result",
          "data": {
            "text/plain": [
              "17.376358811650032"
            ]
          },
          "metadata": {},
          "execution_count": 21
        }
      ]
    },
    {
      "cell_type": "code",
      "metadata": {
        "colab": {
          "base_uri": "https://localhost:8080/"
        },
        "id": "CZeg-7CkkvLL",
        "outputId": "d1cc6bc1-a2b2-4ee8-f1af-23344a865a2b"
      },
      "source": [
        "data['_idade'].min()"
      ],
      "execution_count": 22,
      "outputs": [
        {
          "output_type": "execute_result",
          "data": {
            "text/plain": [
              "0.0"
            ]
          },
          "metadata": {},
          "execution_count": 22
        }
      ]
    },
    {
      "cell_type": "code",
      "metadata": {
        "colab": {
          "base_uri": "https://localhost:8080/"
        },
        "id": "OPgMp29JmB70",
        "outputId": "0251d433-d38a-490d-da9c-9c7abdc58534"
      },
      "source": [
        "data['_idade'].max()"
      ],
      "execution_count": 23,
      "outputs": [
        {
          "output_type": "execute_result",
          "data": {
            "text/plain": [
              "120.0"
            ]
          },
          "metadata": {},
          "execution_count": 23
        }
      ]
    },
    {
      "cell_type": "markdown",
      "metadata": {
        "id": "Wlnhr4rantcw"
      },
      "source": [
        "**Qual o bairro com maior incidência de casos?**\n",
        "\n",
        "São José Operário"
      ]
    },
    {
      "cell_type": "code",
      "metadata": {
        "colab": {
          "base_uri": "https://localhost:8080/"
        },
        "id": "QhPtQPr6mFdG",
        "outputId": "208862db-f89b-4a36-b86b-7aff5e7130f2"
      },
      "source": [
        "data.groupby(by=\"_bairro_mapa\").size().sort_values(ascending=False)"
      ],
      "execution_count": 30,
      "outputs": [
        {
          "output_type": "execute_result",
          "data": {
            "text/plain": [
              "_bairro_mapa\n",
              "SÃO JOSÉ OPERÁRIO          2351\n",
              "CIDADE NOVA                2318\n",
              "ALVORADA                   2015\n",
              "COMPENSA                   2008\n",
              "JORGE TEIXEIRA             1987\n",
              "                           ... \n",
              "NOSSA SENHORA APARECIDA      76\n",
              "RIO NEGRO                    24\n",
              "BR-174                       24\n",
              "AM-010                        6\n",
              "RIO TARUMÃ-MIRIM              3\n",
              "Length: 67, dtype: int64"
            ]
          },
          "metadata": {},
          "execution_count": 30
        }
      ]
    },
    {
      "cell_type": "markdown",
      "metadata": {
        "id": "fD2w8RaFo6KO"
      },
      "source": [
        "**Quais os três bairros com maior incidência de casos recuperados?**\n",
        "\n",
        "\n",
        "\n",
        "1.   São José Operário\n",
        "2.   Cidade Nova\n",
        "3.   Alvorada\n",
        "\n"
      ]
    },
    {
      "cell_type": "code",
      "metadata": {
        "colab": {
          "base_uri": "https://localhost:8080/"
        },
        "id": "i80S2PYc4HjM",
        "outputId": "ea04253e-ed70-413c-bbdf-6be5a0bb1b8f"
      },
      "source": [
        "data.groupby([\"_bairro_mapa\", \"_conclusao\"]).size().sort_values(ascending=False)"
      ],
      "execution_count": 49,
      "outputs": [
        {
          "output_type": "execute_result",
          "data": {
            "text/plain": [
              "_bairro_mapa         _conclusao             \n",
              "SÃO JOSÉ OPERÁRIO    Recuperado                 2234\n",
              "CIDADE NOVA          Recuperado                 2079\n",
              "ALVORADA             Recuperado                 1872\n",
              "JORGE TEIXEIRA       Recuperado                 1863\n",
              "COMPENSA             Recuperado                 1846\n",
              "                                                ... \n",
              "FLORES               Óbito por outras causas       1\n",
              "DA PAZ               Óbito por outras causas       1\n",
              "CRESPO               Óbito por outras causas       1\n",
              "COMPENSA             Óbito por outras causas       1\n",
              "MONTE DAS OLIVEIRAS  Óbito por outras causas       1\n",
              "Length: 166, dtype: int64"
            ]
          },
          "metadata": {},
          "execution_count": 49
        }
      ]
    },
    {
      "cell_type": "markdown",
      "metadata": {
        "id": "GN1Or2FQo53-"
      },
      "source": [
        "**Quais os tipos de testes efetuados, segundo os dados? Indique os dados de maneira quantitativa e percentual.**"
      ]
    },
    {
      "cell_type": "code",
      "metadata": {
        "colab": {
          "base_uri": "https://localhost:8080/"
        },
        "id": "l91qRHx9n0EF",
        "outputId": "95f3a030-6852-4984-f3a3-967d17b8bc68"
      },
      "source": [
        "teste_anticorpo = len(data[data[\"_teste_anticorpo\"] > 0])\n",
        "print(\"Teste Anticorpo:\", teste_anticorpo, \"\\nPorcentagem:\",100*teste_anticorpo/len(data))\n",
        "teste_antigeno = len(data[data[\"_teste_antigeno\"] > 0])\n",
        "print(\"\\nTeste Antigeno:\", teste_antigeno, \"\\nPorcentagem:\",100*teste_antigeno/len(data))\n",
        "teste_pcr = len(data[data[\"_teste_pcr\"] > 0])\n",
        "print(\"\\nTeste PCR:\", teste_pcr, \"\\nPorcentagem:\",100*teste_pcr/len(data))"
      ],
      "execution_count": 50,
      "outputs": [
        {
          "output_type": "stream",
          "name": "stdout",
          "text": [
            "Teste Anticorpo: 25962 \n",
            "Porcentagem: 62.29634073185363\n",
            "\n",
            "Teste Antigeno: 4053 \n",
            "Porcentagem: 9.725254949010198\n",
            "\n",
            "Teste PCR: 11798 \n",
            "Porcentagem: 28.309538092381523\n"
          ]
        }
      ]
    },
    {
      "cell_type": "markdown",
      "metadata": {
        "id": "edawlKR55jbP"
      },
      "source": [
        "**Qual taxa de letalidade pode ser calculada a partir do conjunto de dados? Para calcular esta taxa, considere a fração do total de óbitos pelo total de casos;**"
      ]
    },
    {
      "cell_type": "code",
      "metadata": {
        "colab": {
          "base_uri": "https://localhost:8080/"
        },
        "id": "DlbCvd2wzMnW",
        "outputId": "c1ec8099-ce42-4abf-b8d3-3076f8c1a63d"
      },
      "source": [
        "100 * len(data[data[\"_conclusao\"] == \"Óbito\"])/len(data)"
      ],
      "execution_count": 52,
      "outputs": [
        {
          "output_type": "execute_result",
          "data": {
            "text/plain": [
              "7.973605278944211"
            ]
          },
          "metadata": {},
          "execution_count": 52
        }
      ]
    },
    {
      "cell_type": "markdown",
      "metadata": {
        "id": "GRlNpcE26BUu"
      },
      "source": [
        "**Qual o tipo de correlação, mediante coeficiente de correlação de Pearson, entre a idade e o número de casos? Para responder a esta pergunte, agrupe o número de casos por idade e efetue o cálculo de tal coeficiente. Indique, a partir do resultado, a natureza desta correlação, se é positiva ou negativa, e qual sua intensidade.**\n",
        "\n",
        "É uma correlação negativa, com intensidade igual a -0,345"
      ]
    },
    {
      "cell_type": "code",
      "metadata": {
        "id": "KMj4q-6z55Iz"
      },
      "source": [
        "idade = data.groupby(by=\"_idade\").size().reset_index(name='qtde')"
      ],
      "execution_count": 55,
      "outputs": []
    },
    {
      "cell_type": "code",
      "metadata": {
        "colab": {
          "base_uri": "https://localhost:8080/",
          "height": 111
        },
        "id": "TZ_JAHeW6VcN",
        "outputId": "bd5b7fe5-4c54-400d-afdf-deaeb6aba4fe"
      },
      "source": [
        "idade.corr()"
      ],
      "execution_count": 58,
      "outputs": [
        {
          "output_type": "execute_result",
          "data": {
            "text/html": [
              "<div>\n",
              "<style scoped>\n",
              "    .dataframe tbody tr th:only-of-type {\n",
              "        vertical-align: middle;\n",
              "    }\n",
              "\n",
              "    .dataframe tbody tr th {\n",
              "        vertical-align: top;\n",
              "    }\n",
              "\n",
              "    .dataframe thead th {\n",
              "        text-align: right;\n",
              "    }\n",
              "</style>\n",
              "<table border=\"1\" class=\"dataframe\">\n",
              "  <thead>\n",
              "    <tr style=\"text-align: right;\">\n",
              "      <th></th>\n",
              "      <th>_idade</th>\n",
              "      <th>qtde</th>\n",
              "    </tr>\n",
              "  </thead>\n",
              "  <tbody>\n",
              "    <tr>\n",
              "      <th>_idade</th>\n",
              "      <td>1.000000</td>\n",
              "      <td>-0.345031</td>\n",
              "    </tr>\n",
              "    <tr>\n",
              "      <th>qtde</th>\n",
              "      <td>-0.345031</td>\n",
              "      <td>1.000000</td>\n",
              "    </tr>\n",
              "  </tbody>\n",
              "</table>\n",
              "</div>"
            ],
            "text/plain": [
              "          _idade      qtde\n",
              "_idade  1.000000 -0.345031\n",
              "qtde   -0.345031  1.000000"
            ]
          },
          "metadata": {},
          "execution_count": 58
        }
      ]
    }
  ]
}