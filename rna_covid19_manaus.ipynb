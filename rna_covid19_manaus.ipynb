{
  "nbformat": 4,
  "nbformat_minor": 0,
  "metadata": {
    "colab": {
      "name": "rna-covid19-manaus.ipynb",
      "provenance": [],
      "collapsed_sections": [],
      "include_colab_link": true
    },
    "kernelspec": {
      "name": "python3",
      "display_name": "Python 3"
    },
    "language_info": {
      "name": "python"
    }
  },
  "cells": [
    {
      "cell_type": "markdown",
      "metadata": {
        "id": "view-in-github",
        "colab_type": "text"
      },
      "source": [
        "<a href=\"https://colab.research.google.com/github/migvanderlei/rna-1-2/blob/main/rna_covid19_manaus.ipynb\" target=\"_parent\"><img src=\"https://colab.research.google.com/assets/colab-badge.svg\" alt=\"Open In Colab\"/></a>"
      ]
    },
    {
      "cell_type": "code",
      "metadata": {
        "id": "Hl3VjwPSobSI"
      },
      "source": [
        "import pandas as pd"
      ],
      "execution_count": 89,
      "outputs": []
    },
    {
      "cell_type": "code",
      "metadata": {
        "colab": {
          "base_uri": "https://localhost:8080/"
        },
        "id": "0-33qrHJ92oj",
        "outputId": "d297ddf4-57c5-4743-f194-ac2d3dd166c1"
      },
      "source": [
        "data = pd.read_csv(\"https://covid19.manaus.am.gov.br/wp-content/uploads/Manaus.csv\", sep=';', \n",
        "                    parse_dates=['_dt_evolucao', '_dt_notificacao', '_dt_sintomas']\n",
        "                   )"
      ],
      "execution_count": 90,
      "outputs": [
        {
          "output_type": "stream",
          "name": "stderr",
          "text": [
            "/usr/local/lib/python3.7/dist-packages/IPython/core/interactiveshell.py:2718: DtypeWarning: Columns (6,7,8,9,10,11,12,13,14,15,16,17,18,22,23,26,27,28,29,30,31) have mixed types.Specify dtype option on import or set low_memory=False.\n",
            "  interactivity=interactivity, compiler=compiler, result=result)\n"
          ]
        }
      ]
    },
    {
      "cell_type": "code",
      "metadata": {
        "colab": {
          "base_uri": "https://localhost:8080/",
          "height": 326
        },
        "id": "Ublsw0at-Get",
        "outputId": "1db6ace2-01e0-43e0-9de5-d17dfd48b699"
      },
      "source": [
        "data.head()"
      ],
      "execution_count": 91,
      "outputs": [
        {
          "output_type": "execute_result",
          "data": {
            "text/html": [
              "<div>\n",
              "<style scoped>\n",
              "    .dataframe tbody tr th:only-of-type {\n",
              "        vertical-align: middle;\n",
              "    }\n",
              "\n",
              "    .dataframe tbody tr th {\n",
              "        vertical-align: top;\n",
              "    }\n",
              "\n",
              "    .dataframe thead th {\n",
              "        text-align: right;\n",
              "    }\n",
              "</style>\n",
              "<table border=\"1\" class=\"dataframe\">\n",
              "  <thead>\n",
              "    <tr style=\"text-align: right;\">\n",
              "      <th></th>\n",
              "      <th>_dt_evolucao</th>\n",
              "      <th>_dt_notificacao</th>\n",
              "      <th>_dt_sintomas</th>\n",
              "      <th>_classificacao</th>\n",
              "      <th>_conclusao</th>\n",
              "      <th>_origem</th>\n",
              "      <th>_comorb_cardio</th>\n",
              "      <th>_comorb_cromossomica</th>\n",
              "      <th>_comorb_diabetes</th>\n",
              "      <th>_comorb_hemato</th>\n",
              "      <th>_comorb_hepatica</th>\n",
              "      <th>_comorb_imuno</th>\n",
              "      <th>_comorb_neurologica</th>\n",
              "      <th>_comorb_obessidade</th>\n",
              "      <th>_comorb_renal</th>\n",
              "      <th>_comorb_respiratoria</th>\n",
              "      <th>_criterio</th>\n",
              "      <th>_etnia</th>\n",
              "      <th>_evolução</th>\n",
              "      <th>_idade</th>\n",
              "      <th>_faixa etária</th>\n",
              "      <th>_gestante</th>\n",
              "      <th>_profiss_saude</th>\n",
              "      <th>_raca</th>\n",
              "      <th>_se_notificacao</th>\n",
              "      <th>_sexo</th>\n",
              "      <th>_sintoma_dispneia</th>\n",
              "      <th>_sintoma_febre</th>\n",
              "      <th>_sintoma_garganta</th>\n",
              "      <th>_sintoma_tosse</th>\n",
              "      <th>_sintoma_outros</th>\n",
              "      <th>_srag</th>\n",
              "      <th>_teste_anticorpo</th>\n",
              "      <th>_teste_antigeno</th>\n",
              "      <th>_teste_pcr</th>\n",
              "      <th>_bairro</th>\n",
              "      <th>_bairro_mapa</th>\n",
              "      <th>_distrito</th>\n",
              "      <th>_taxa</th>\n",
              "    </tr>\n",
              "  </thead>\n",
              "  <tbody>\n",
              "    <tr>\n",
              "      <th>0</th>\n",
              "      <td>2020-01-25</td>\n",
              "      <td>2020-03-01</td>\n",
              "      <td>2020-01-01</td>\n",
              "      <td>Descartado</td>\n",
              "      <td>Recuperado</td>\n",
              "      <td>SIVEP,</td>\n",
              "      <td>NaN</td>\n",
              "      <td>NaN</td>\n",
              "      <td>NaN</td>\n",
              "      <td>NaN</td>\n",
              "      <td>NaN</td>\n",
              "      <td>NaN</td>\n",
              "      <td>NaN</td>\n",
              "      <td>NaN</td>\n",
              "      <td>NaN</td>\n",
              "      <td>NaN</td>\n",
              "      <td>Laboratorial</td>\n",
              "      <td>NaN</td>\n",
              "      <td>Internado</td>\n",
              "      <td>4.0</td>\n",
              "      <td>1a - 4a</td>\n",
              "      <td>NaN</td>\n",
              "      <td>NaN</td>\n",
              "      <td>Parda</td>\n",
              "      <td>1.0</td>\n",
              "      <td>M</td>\n",
              "      <td>Sim</td>\n",
              "      <td>Sim</td>\n",
              "      <td>Sim</td>\n",
              "      <td>Sim</td>\n",
              "      <td>Sim</td>\n",
              "      <td>SRAG não especificado</td>\n",
              "      <td>NaN</td>\n",
              "      <td>NaN</td>\n",
              "      <td>NaN</td>\n",
              "      <td>TARUMA</td>\n",
              "      <td>TARUMÃ</td>\n",
              "      <td>OESTE</td>\n",
              "      <td>0,243042897</td>\n",
              "    </tr>\n",
              "    <tr>\n",
              "      <th>1</th>\n",
              "      <td>2020-03-01</td>\n",
              "      <td>2020-03-01</td>\n",
              "      <td>2020-01-01</td>\n",
              "      <td>Descartado</td>\n",
              "      <td>Óbito</td>\n",
              "      <td>SIVEP,</td>\n",
              "      <td>NaN</td>\n",
              "      <td>NaN</td>\n",
              "      <td>NaN</td>\n",
              "      <td>NaN</td>\n",
              "      <td>NaN</td>\n",
              "      <td>NaN</td>\n",
              "      <td>NaN</td>\n",
              "      <td>NaN</td>\n",
              "      <td>NaN</td>\n",
              "      <td>NaN</td>\n",
              "      <td>Laboratorial</td>\n",
              "      <td>NaN</td>\n",
              "      <td>Internado</td>\n",
              "      <td>26.0</td>\n",
              "      <td>20a - 29a</td>\n",
              "      <td>NaN</td>\n",
              "      <td>NaN</td>\n",
              "      <td>Parda</td>\n",
              "      <td>1.0</td>\n",
              "      <td>F</td>\n",
              "      <td>Sim</td>\n",
              "      <td>Sim</td>\n",
              "      <td>Sim</td>\n",
              "      <td>Sim</td>\n",
              "      <td>Sim</td>\n",
              "      <td>Influenza B</td>\n",
              "      <td>NaN</td>\n",
              "      <td>NaN</td>\n",
              "      <td>NaN</td>\n",
              "      <td>TARUMA-ACU</td>\n",
              "      <td>TARUMÃ-AÇÚ</td>\n",
              "      <td>OESTE</td>\n",
              "      <td>0,684931507</td>\n",
              "    </tr>\n",
              "    <tr>\n",
              "      <th>2</th>\n",
              "      <td>2020-05-01</td>\n",
              "      <td>2020-03-01</td>\n",
              "      <td>2020-03-01</td>\n",
              "      <td>Descartado</td>\n",
              "      <td>Óbito</td>\n",
              "      <td>SIVEP,</td>\n",
              "      <td>NaN</td>\n",
              "      <td>NaN</td>\n",
              "      <td>NaN</td>\n",
              "      <td>NaN</td>\n",
              "      <td>NaN</td>\n",
              "      <td>NaN</td>\n",
              "      <td>NaN</td>\n",
              "      <td>NaN</td>\n",
              "      <td>NaN</td>\n",
              "      <td>NaN</td>\n",
              "      <td>Laboratorial</td>\n",
              "      <td>NaN</td>\n",
              "      <td>Internado em UTI</td>\n",
              "      <td>27.0</td>\n",
              "      <td>20a - 29a</td>\n",
              "      <td>NaN</td>\n",
              "      <td>NaN</td>\n",
              "      <td>Parda</td>\n",
              "      <td>1.0</td>\n",
              "      <td>M</td>\n",
              "      <td>Sim</td>\n",
              "      <td>Sim</td>\n",
              "      <td>Sim</td>\n",
              "      <td>Sim</td>\n",
              "      <td>Sim</td>\n",
              "      <td>SRAG não especificado</td>\n",
              "      <td>NaN</td>\n",
              "      <td>NaN</td>\n",
              "      <td>NaN</td>\n",
              "      <td>JORGE TEIXEIRA</td>\n",
              "      <td>JORGE TEIXEIRA</td>\n",
              "      <td>LESTE</td>\n",
              "      <td>0,073137374</td>\n",
              "    </tr>\n",
              "    <tr>\n",
              "      <th>3</th>\n",
              "      <td>2020-01-16</td>\n",
              "      <td>2020-08-01</td>\n",
              "      <td>2020-04-01</td>\n",
              "      <td>Descartado</td>\n",
              "      <td>Óbito</td>\n",
              "      <td>SIVEP,</td>\n",
              "      <td>NaN</td>\n",
              "      <td>NaN</td>\n",
              "      <td>NaN</td>\n",
              "      <td>NaN</td>\n",
              "      <td>NaN</td>\n",
              "      <td>NaN</td>\n",
              "      <td>NaN</td>\n",
              "      <td>NaN</td>\n",
              "      <td>NaN</td>\n",
              "      <td>NaN</td>\n",
              "      <td>Laboratorial</td>\n",
              "      <td>NaN</td>\n",
              "      <td>Internado em UTI</td>\n",
              "      <td>94.0</td>\n",
              "      <td>80a ou +</td>\n",
              "      <td>NaN</td>\n",
              "      <td>NaN</td>\n",
              "      <td>Parda</td>\n",
              "      <td>2.0</td>\n",
              "      <td>M</td>\n",
              "      <td>Sim</td>\n",
              "      <td>Sim</td>\n",
              "      <td>Sim</td>\n",
              "      <td>Sim</td>\n",
              "      <td>Sim</td>\n",
              "      <td>SRAG não especificado</td>\n",
              "      <td>NaN</td>\n",
              "      <td>NaN</td>\n",
              "      <td>NaN</td>\n",
              "      <td>FLORES</td>\n",
              "      <td>FLORES</td>\n",
              "      <td>SUL</td>\n",
              "      <td>0,198306463</td>\n",
              "    </tr>\n",
              "    <tr>\n",
              "      <th>4</th>\n",
              "      <td>2020-11-01</td>\n",
              "      <td>2020-08-01</td>\n",
              "      <td>2020-05-01</td>\n",
              "      <td>Descartado</td>\n",
              "      <td>Recuperado</td>\n",
              "      <td>SIVEP,</td>\n",
              "      <td>NaN</td>\n",
              "      <td>NaN</td>\n",
              "      <td>NaN</td>\n",
              "      <td>NaN</td>\n",
              "      <td>NaN</td>\n",
              "      <td>NaN</td>\n",
              "      <td>NaN</td>\n",
              "      <td>NaN</td>\n",
              "      <td>NaN</td>\n",
              "      <td>NaN</td>\n",
              "      <td>Laboratorial</td>\n",
              "      <td>NaN</td>\n",
              "      <td>Internado</td>\n",
              "      <td>0.0</td>\n",
              "      <td>&lt; 1a</td>\n",
              "      <td>NaN</td>\n",
              "      <td>NaN</td>\n",
              "      <td>Parda</td>\n",
              "      <td>2.0</td>\n",
              "      <td>M</td>\n",
              "      <td>Sim</td>\n",
              "      <td>Sim</td>\n",
              "      <td>NaN</td>\n",
              "      <td>Sim</td>\n",
              "      <td>Sim</td>\n",
              "      <td>SRAG não especificado</td>\n",
              "      <td>NaN</td>\n",
              "      <td>NaN</td>\n",
              "      <td>NaN</td>\n",
              "      <td>CIDADE DE DEUS</td>\n",
              "      <td>CIDADE DE DEUS</td>\n",
              "      <td>NORTE</td>\n",
              "      <td>0,117699678</td>\n",
              "    </tr>\n",
              "  </tbody>\n",
              "</table>\n",
              "</div>"
            ],
            "text/plain": [
              "  _dt_evolucao _dt_notificacao  ... _distrito        _taxa\n",
              "0   2020-01-25      2020-03-01  ...     OESTE  0,243042897\n",
              "1   2020-03-01      2020-03-01  ...     OESTE  0,684931507\n",
              "2   2020-05-01      2020-03-01  ...     LESTE  0,073137374\n",
              "3   2020-01-16      2020-08-01  ...       SUL  0,198306463\n",
              "4   2020-11-01      2020-08-01  ...     NORTE  0,117699678\n",
              "\n",
              "[5 rows x 39 columns]"
            ]
          },
          "metadata": {},
          "execution_count": 91
        }
      ]
    },
    {
      "cell_type": "markdown",
      "metadata": {
        "id": "aGJjrcsgZQ3G"
      },
      "source": [
        "# Visão Geral dos Casos Confirmados"
      ]
    },
    {
      "cell_type": "markdown",
      "metadata": {
        "id": "myGDMeaeZfG1"
      },
      "source": [
        "Filtrando apenas casos confirmados"
      ]
    },
    {
      "cell_type": "code",
      "metadata": {
        "colab": {
          "base_uri": "https://localhost:8080/"
        },
        "id": "12eab1ANZeTi",
        "outputId": "f4e934ac-191f-41b9-8556-ddabe01a0f54"
      },
      "source": [
        "data['_classificacao'].value_counts()"
      ],
      "execution_count": 92,
      "outputs": [
        {
          "output_type": "execute_result",
          "data": {
            "text/plain": [
              "Descartado    126563\n",
              "Confirmado     80420\n",
              "Em análise     37001\n",
              "Name: _classificacao, dtype: int64"
            ]
          },
          "metadata": {},
          "execution_count": 92
        }
      ]
    },
    {
      "cell_type": "code",
      "metadata": {
        "id": "x-OvTBCkZqz8"
      },
      "source": [
        "data = data[data['_classificacao'] == 'Confirmado']"
      ],
      "execution_count": 93,
      "outputs": []
    },
    {
      "cell_type": "code",
      "metadata": {
        "colab": {
          "base_uri": "https://localhost:8080/",
          "height": 360
        },
        "id": "7eb5d8kPZ0hC",
        "outputId": "45e6125a-65dd-4eaf-cb83-1070a9fb4eb5"
      },
      "source": [
        "data.sample(5)"
      ],
      "execution_count": 94,
      "outputs": [
        {
          "output_type": "execute_result",
          "data": {
            "text/html": [
              "<div>\n",
              "<style scoped>\n",
              "    .dataframe tbody tr th:only-of-type {\n",
              "        vertical-align: middle;\n",
              "    }\n",
              "\n",
              "    .dataframe tbody tr th {\n",
              "        vertical-align: top;\n",
              "    }\n",
              "\n",
              "    .dataframe thead th {\n",
              "        text-align: right;\n",
              "    }\n",
              "</style>\n",
              "<table border=\"1\" class=\"dataframe\">\n",
              "  <thead>\n",
              "    <tr style=\"text-align: right;\">\n",
              "      <th></th>\n",
              "      <th>_dt_evolucao</th>\n",
              "      <th>_dt_notificacao</th>\n",
              "      <th>_dt_sintomas</th>\n",
              "      <th>_classificacao</th>\n",
              "      <th>_conclusao</th>\n",
              "      <th>_origem</th>\n",
              "      <th>_comorb_cardio</th>\n",
              "      <th>_comorb_cromossomica</th>\n",
              "      <th>_comorb_diabetes</th>\n",
              "      <th>_comorb_hemato</th>\n",
              "      <th>_comorb_hepatica</th>\n",
              "      <th>_comorb_imuno</th>\n",
              "      <th>_comorb_neurologica</th>\n",
              "      <th>_comorb_obessidade</th>\n",
              "      <th>_comorb_renal</th>\n",
              "      <th>_comorb_respiratoria</th>\n",
              "      <th>_criterio</th>\n",
              "      <th>_etnia</th>\n",
              "      <th>_evolução</th>\n",
              "      <th>_idade</th>\n",
              "      <th>_faixa etária</th>\n",
              "      <th>_gestante</th>\n",
              "      <th>_profiss_saude</th>\n",
              "      <th>_raca</th>\n",
              "      <th>_se_notificacao</th>\n",
              "      <th>_sexo</th>\n",
              "      <th>_sintoma_dispneia</th>\n",
              "      <th>_sintoma_febre</th>\n",
              "      <th>_sintoma_garganta</th>\n",
              "      <th>_sintoma_tosse</th>\n",
              "      <th>_sintoma_outros</th>\n",
              "      <th>_srag</th>\n",
              "      <th>_teste_anticorpo</th>\n",
              "      <th>_teste_antigeno</th>\n",
              "      <th>_teste_pcr</th>\n",
              "      <th>_bairro</th>\n",
              "      <th>_bairro_mapa</th>\n",
              "      <th>_distrito</th>\n",
              "      <th>_taxa</th>\n",
              "    </tr>\n",
              "  </thead>\n",
              "  <tbody>\n",
              "    <tr>\n",
              "      <th>140423</th>\n",
              "      <td>NaT</td>\n",
              "      <td>2020-05-21</td>\n",
              "      <td>2020-05-17</td>\n",
              "      <td>Confirmado</td>\n",
              "      <td>NaN</td>\n",
              "      <td>eSUS VE, GAL</td>\n",
              "      <td>NaN</td>\n",
              "      <td>NaN</td>\n",
              "      <td>NaN</td>\n",
              "      <td>NaN</td>\n",
              "      <td>NaN</td>\n",
              "      <td>NaN</td>\n",
              "      <td>NaN</td>\n",
              "      <td>NaN</td>\n",
              "      <td>NaN</td>\n",
              "      <td>NaN</td>\n",
              "      <td>NaN</td>\n",
              "      <td>NaN</td>\n",
              "      <td>NaN</td>\n",
              "      <td>53.0</td>\n",
              "      <td>50a - 59a</td>\n",
              "      <td>NaN</td>\n",
              "      <td>NaN</td>\n",
              "      <td>NaN</td>\n",
              "      <td>21.0</td>\n",
              "      <td>M</td>\n",
              "      <td>NaN</td>\n",
              "      <td>Sim</td>\n",
              "      <td>NaN</td>\n",
              "      <td>Sim</td>\n",
              "      <td>Sim</td>\n",
              "      <td>NaN</td>\n",
              "      <td>1.0</td>\n",
              "      <td>NaN</td>\n",
              "      <td>1.0</td>\n",
              "      <td>ALEIXO</td>\n",
              "      <td>ALEIXO</td>\n",
              "      <td>SUL</td>\n",
              "      <td>0,444325958</td>\n",
              "    </tr>\n",
              "    <tr>\n",
              "      <th>226207</th>\n",
              "      <td>NaT</td>\n",
              "      <td>2020-12-24</td>\n",
              "      <td>2020-12-21</td>\n",
              "      <td>Confirmado</td>\n",
              "      <td>NaN</td>\n",
              "      <td>eSUS VE,</td>\n",
              "      <td>NaN</td>\n",
              "      <td>NaN</td>\n",
              "      <td>NaN</td>\n",
              "      <td>NaN</td>\n",
              "      <td>NaN</td>\n",
              "      <td>NaN</td>\n",
              "      <td>NaN</td>\n",
              "      <td>NaN</td>\n",
              "      <td>NaN</td>\n",
              "      <td>NaN</td>\n",
              "      <td>NaN</td>\n",
              "      <td>NaN</td>\n",
              "      <td>NaN</td>\n",
              "      <td>54.0</td>\n",
              "      <td>50a - 59a</td>\n",
              "      <td>NaN</td>\n",
              "      <td>NaN</td>\n",
              "      <td>Ignorado</td>\n",
              "      <td>52.0</td>\n",
              "      <td>F</td>\n",
              "      <td>NaN</td>\n",
              "      <td>NaN</td>\n",
              "      <td>NaN</td>\n",
              "      <td>NaN</td>\n",
              "      <td>NaN</td>\n",
              "      <td>NaN</td>\n",
              "      <td>NaN</td>\n",
              "      <td>1.0</td>\n",
              "      <td>NaN</td>\n",
              "      <td>ALEIXO</td>\n",
              "      <td>ALEIXO</td>\n",
              "      <td>SUL</td>\n",
              "      <td>0,444325958</td>\n",
              "    </tr>\n",
              "    <tr>\n",
              "      <th>37756</th>\n",
              "      <td>2020-08-27</td>\n",
              "      <td>2020-04-05</td>\n",
              "      <td>2020-01-05</td>\n",
              "      <td>Confirmado</td>\n",
              "      <td>Recuperado</td>\n",
              "      <td>eSUS VE, GAL</td>\n",
              "      <td>Sim</td>\n",
              "      <td>NaN</td>\n",
              "      <td>NaN</td>\n",
              "      <td>NaN</td>\n",
              "      <td>NaN</td>\n",
              "      <td>NaN</td>\n",
              "      <td>NaN</td>\n",
              "      <td>NaN</td>\n",
              "      <td>NaN</td>\n",
              "      <td>NaN</td>\n",
              "      <td>NaN</td>\n",
              "      <td>NaN</td>\n",
              "      <td>NaN</td>\n",
              "      <td>38.0</td>\n",
              "      <td>30a - 39a</td>\n",
              "      <td>NaN</td>\n",
              "      <td>NaN</td>\n",
              "      <td>Parda</td>\n",
              "      <td>19.0</td>\n",
              "      <td>M</td>\n",
              "      <td>Sim</td>\n",
              "      <td>NaN</td>\n",
              "      <td>NaN</td>\n",
              "      <td>NaN</td>\n",
              "      <td>NaN</td>\n",
              "      <td>NaN</td>\n",
              "      <td>NaN</td>\n",
              "      <td>1.0</td>\n",
              "      <td>1.0</td>\n",
              "      <td>COLONIA ANTONIO ALEIXO</td>\n",
              "      <td>COLÔNIA ANTÔNIO ALEIXO</td>\n",
              "      <td>LESTE</td>\n",
              "      <td>0,497265042</td>\n",
              "    </tr>\n",
              "    <tr>\n",
              "      <th>41000</th>\n",
              "      <td>2020-03-11</td>\n",
              "      <td>2020-03-11</td>\n",
              "      <td>2020-08-04</td>\n",
              "      <td>Confirmado</td>\n",
              "      <td>Recuperado</td>\n",
              "      <td>eSUS VE,</td>\n",
              "      <td>NaN</td>\n",
              "      <td>NaN</td>\n",
              "      <td>NaN</td>\n",
              "      <td>NaN</td>\n",
              "      <td>NaN</td>\n",
              "      <td>NaN</td>\n",
              "      <td>NaN</td>\n",
              "      <td>NaN</td>\n",
              "      <td>NaN</td>\n",
              "      <td>NaN</td>\n",
              "      <td>NaN</td>\n",
              "      <td>NaN</td>\n",
              "      <td>NaN</td>\n",
              "      <td>42.0</td>\n",
              "      <td>40a - 49a</td>\n",
              "      <td>NaN</td>\n",
              "      <td>NaN</td>\n",
              "      <td>Parda</td>\n",
              "      <td>45.0</td>\n",
              "      <td>F</td>\n",
              "      <td>Sim</td>\n",
              "      <td>NaN</td>\n",
              "      <td>Sim</td>\n",
              "      <td>NaN</td>\n",
              "      <td>NaN</td>\n",
              "      <td>NaN</td>\n",
              "      <td>1.0</td>\n",
              "      <td>NaN</td>\n",
              "      <td>NaN</td>\n",
              "      <td>FLORES</td>\n",
              "      <td>FLORES</td>\n",
              "      <td>SUL</td>\n",
              "      <td>0,198306463</td>\n",
              "    </tr>\n",
              "    <tr>\n",
              "      <th>230355</th>\n",
              "      <td>NaT</td>\n",
              "      <td>2020-08-10</td>\n",
              "      <td>NaT</td>\n",
              "      <td>Confirmado</td>\n",
              "      <td>NaN</td>\n",
              "      <td>GAL</td>\n",
              "      <td>NaN</td>\n",
              "      <td>NaN</td>\n",
              "      <td>NaN</td>\n",
              "      <td>NaN</td>\n",
              "      <td>NaN</td>\n",
              "      <td>NaN</td>\n",
              "      <td>NaN</td>\n",
              "      <td>NaN</td>\n",
              "      <td>NaN</td>\n",
              "      <td>NaN</td>\n",
              "      <td>NaN</td>\n",
              "      <td>NaN</td>\n",
              "      <td>NaN</td>\n",
              "      <td>67.0</td>\n",
              "      <td>60a - 69a</td>\n",
              "      <td>NaN</td>\n",
              "      <td>NaN</td>\n",
              "      <td>NaN</td>\n",
              "      <td>41.0</td>\n",
              "      <td>F</td>\n",
              "      <td>NaN</td>\n",
              "      <td>NaN</td>\n",
              "      <td>NaN</td>\n",
              "      <td>NaN</td>\n",
              "      <td>NaN</td>\n",
              "      <td>NaN</td>\n",
              "      <td>NaN</td>\n",
              "      <td>NaN</td>\n",
              "      <td>2.0</td>\n",
              "      <td>´PRAÇA 14</td>\n",
              "      <td>NaN</td>\n",
              "      <td>NaN</td>\n",
              "      <td>NaN</td>\n",
              "    </tr>\n",
              "  </tbody>\n",
              "</table>\n",
              "</div>"
            ],
            "text/plain": [
              "       _dt_evolucao _dt_notificacao  ... _distrito        _taxa\n",
              "140423          NaT      2020-05-21  ...       SUL  0,444325958\n",
              "226207          NaT      2020-12-24  ...       SUL  0,444325958\n",
              "37756    2020-08-27      2020-04-05  ...     LESTE  0,497265042\n",
              "41000    2020-03-11      2020-03-11  ...       SUL  0,198306463\n",
              "230355          NaT      2020-08-10  ...       NaN          NaN\n",
              "\n",
              "[5 rows x 39 columns]"
            ]
          },
          "metadata": {},
          "execution_count": 94
        }
      ]
    },
    {
      "cell_type": "markdown",
      "metadata": {
        "id": "pg7qU-k5aCCz"
      },
      "source": [
        "**Quantos atributos descrevem cada exemplo? Quais são eles?**"
      ]
    },
    {
      "cell_type": "code",
      "metadata": {
        "colab": {
          "base_uri": "https://localhost:8080/"
        },
        "id": "2LWRujb2Z-lK",
        "outputId": "db97ce51-8024-440c-c68f-f73f43289ee6"
      },
      "source": [
        "data.info()"
      ],
      "execution_count": 95,
      "outputs": [
        {
          "output_type": "stream",
          "name": "stdout",
          "text": [
            "<class 'pandas.core.frame.DataFrame'>\n",
            "Int64Index: 80420 entries, 130 to 243982\n",
            "Data columns (total 39 columns):\n",
            " #   Column                Non-Null Count  Dtype         \n",
            "---  ------                --------------  -----         \n",
            " 0   _dt_evolucao          47739 non-null  datetime64[ns]\n",
            " 1   _dt_notificacao       80395 non-null  datetime64[ns]\n",
            " 2   _dt_sintomas          78922 non-null  datetime64[ns]\n",
            " 3   _classificacao        80420 non-null  object        \n",
            " 4   _conclusao            42774 non-null  object        \n",
            " 5   _origem               80420 non-null  object        \n",
            " 6   _comorb_cardio        6071 non-null   object        \n",
            " 7   _comorb_cromossomica  185 non-null    object        \n",
            " 8   _comorb_diabetes      4763 non-null   object        \n",
            " 9   _comorb_hemato        100 non-null    object        \n",
            " 10  _comorb_hepatica      84 non-null     object        \n",
            " 11  _comorb_imuno         813 non-null    object        \n",
            " 12  _comorb_neurologica   297 non-null    object        \n",
            " 13  _comorb_obessidade    392 non-null    object        \n",
            " 14  _comorb_renal         550 non-null    object        \n",
            " 15  _comorb_respiratoria  2096 non-null   object        \n",
            " 16  _criterio             8842 non-null   object        \n",
            " 17  _etnia                25 non-null     object        \n",
            " 18  _evolução             11083 non-null  object        \n",
            " 19  _idade                80395 non-null  float64       \n",
            " 20  _faixa etária         80395 non-null  object        \n",
            " 21  _gestante             638 non-null    object        \n",
            " 22  _profiss_saude        6461 non-null   object        \n",
            " 23  _raca                 70367 non-null  object        \n",
            " 24  _se_notificacao       80395 non-null  float64       \n",
            " 25  _sexo                 80301 non-null  object        \n",
            " 26  _sintoma_dispneia     23348 non-null  object        \n",
            " 27  _sintoma_febre        40421 non-null  object        \n",
            " 28  _sintoma_garganta     25097 non-null  object        \n",
            " 29  _sintoma_tosse        40554 non-null  object        \n",
            " 30  _sintoma_outros       36378 non-null  object        \n",
            " 31  _srag                 9095 non-null   object        \n",
            " 32  _teste_anticorpo      52177 non-null  float64       \n",
            " 33  _teste_antigeno       8342 non-null   float64       \n",
            " 34  _teste_pcr            23308 non-null  float64       \n",
            " 35  _bairro               79649 non-null  object        \n",
            " 36  _bairro_mapa          76699 non-null  object        \n",
            " 37  _distrito             76699 non-null  object        \n",
            " 38  _taxa                 76699 non-null  object        \n",
            "dtypes: datetime64[ns](3), float64(5), object(31)\n",
            "memory usage: 24.5+ MB\n"
          ]
        }
      ]
    },
    {
      "cell_type": "markdown",
      "metadata": {
        "id": "ZCdQ-fbthmHH"
      },
      "source": [
        "**Quantos casos confirmados há em Manaus, cumulativamente?**\n",
        "\n",
        "80.420"
      ]
    },
    {
      "cell_type": "markdown",
      "metadata": {
        "id": "C7Vjq9BGhuWb"
      },
      "source": [
        "**A qual período de tempo a base de dados se refere, isto é, qual o registro mais antigo e qual o mais recente? Leve em conta a data de notificação.**"
      ]
    },
    {
      "cell_type": "markdown",
      "metadata": {
        "id": "tVvVduzrjc5D"
      },
      "source": [
        "Caso mais antigo: 04/01/2020"
      ]
    },
    {
      "cell_type": "code",
      "metadata": {
        "colab": {
          "base_uri": "https://localhost:8080/"
        },
        "id": "OmpCVh-chZ-X",
        "outputId": "29a5e6f2-870f-4e6e-e9df-55b3deee8cfb"
      },
      "source": [
        "data['_dt_notificacao'].min()"
      ],
      "execution_count": 96,
      "outputs": [
        {
          "output_type": "execute_result",
          "data": {
            "text/plain": [
              "Timestamp('2020-01-04 00:00:00')"
            ]
          },
          "metadata": {},
          "execution_count": 96
        }
      ]
    },
    {
      "cell_type": "markdown",
      "metadata": {
        "id": "SP31Y2VJjkDE"
      },
      "source": [
        "Caso mais recente: 29/12/2020"
      ]
    },
    {
      "cell_type": "code",
      "metadata": {
        "colab": {
          "base_uri": "https://localhost:8080/"
        },
        "id": "gH-FBk7XjRT4",
        "outputId": "4b5a2c1f-04b3-47f0-e3e2-c715c4b1e5b0"
      },
      "source": [
        "data['_dt_notificacao'].max()"
      ],
      "execution_count": 97,
      "outputs": [
        {
          "output_type": "execute_result",
          "data": {
            "text/plain": [
              "Timestamp('2020-12-29 00:00:00')"
            ]
          },
          "metadata": {},
          "execution_count": 97
        }
      ]
    },
    {
      "cell_type": "markdown",
      "metadata": {
        "id": "97O8X_QPk9vu"
      },
      "source": [
        "# Limpeza de dados\n",
        "\n",
        "Vamos remover atributos que não são úteis para as análises propostas neste projeto, assim como remover linhas em que aparecem campos vazios (`NaN`, `NaT`)."
      ]
    },
    {
      "cell_type": "markdown",
      "metadata": {
        "id": "6DTphOi1rTfp"
      },
      "source": [
        "Removendo colunas com informações irrelevantes, o que inclui: `_dt_evolucao`, `_dt_sintomas`, `_profiss_saude`, `_etnia`, `_raca`, `_gestante`, `_se_notificacao`, `_srag`, `_taxa`, `_criterio`, `_origem`, `_evolução` e todas as colunas que começam com `_sintoma`, `_comorb`, ou `_teste`.\n"
      ]
    },
    {
      "cell_type": "code",
      "metadata": {
        "id": "2VnJr--HlB4U"
      },
      "source": [
        "columns_to_remove = ['_dt_evolucao', '_dt_sintomas', '_profiss_saude', \n",
        "                     '_etnia', '_raca', '_gestante', '_se_notificacao', \n",
        "                     '_srag', '_taxa', '_criterio', '_origem', '_evolução']\n",
        "\n",
        "columns_to_remove += [\n",
        "                        column for column in data.columns \n",
        "                        if column.startswith('_sintoma') \n",
        "                        or column.startswith('_comorb') \n",
        "                        or column.startswith('_teste')\n",
        "                      ]"
      ],
      "execution_count": 98,
      "outputs": []
    },
    {
      "cell_type": "code",
      "metadata": {
        "id": "11dyDYhMrKqy"
      },
      "source": [
        "data = data.drop(columns_to_remove, axis=1)"
      ],
      "execution_count": 99,
      "outputs": []
    },
    {
      "cell_type": "markdown",
      "metadata": {
        "id": "jQPXKFQernYu"
      },
      "source": [
        "Removendo todas as linhas que possuem valores nulos, como `NaN` e `NaT` (para os casos de colunas com dados temporais)."
      ]
    },
    {
      "cell_type": "code",
      "metadata": {
        "id": "EfAX2cxErRVm"
      },
      "source": [
        "data = data.dropna()"
      ],
      "execution_count": 100,
      "outputs": []
    },
    {
      "cell_type": "code",
      "metadata": {
        "id": "8ERUjznRvJR9"
      },
      "source": [
        "data.to_csv('Manaus-preprocessed.csv', sep=';')"
      ],
      "execution_count": 103,
      "outputs": []
    },
    {
      "cell_type": "markdown",
      "metadata": {
        "id": "-z_Kw3e3vC0p"
      },
      "source": [
        "# Análises pós-limpeza"
      ]
    },
    {
      "cell_type": "code",
      "metadata": {
        "colab": {
          "base_uri": "https://localhost:8080/"
        },
        "id": "yrbEqAy3r2av",
        "outputId": "224324de-0895-4fd5-8f74-ed341ce3ec7a"
      },
      "source": [
        "data.info()"
      ],
      "execution_count": 88,
      "outputs": [
        {
          "output_type": "stream",
          "name": "stdout",
          "text": [
            "<class 'pandas.core.frame.DataFrame'>\n",
            "Int64Index: 41675 entries, 130 to 225161\n",
            "Data columns (total 9 columns):\n",
            " #   Column           Non-Null Count  Dtype         \n",
            "---  ------           --------------  -----         \n",
            " 0   _dt_notificacao  41675 non-null  datetime64[ns]\n",
            " 1   _classificacao   41675 non-null  object        \n",
            " 2   _conclusao       41675 non-null  object        \n",
            " 3   _idade           41675 non-null  float64       \n",
            " 4   _faixa etária    41675 non-null  object        \n",
            " 5   _sexo            41675 non-null  object        \n",
            " 6   _bairro          41675 non-null  object        \n",
            " 7   _bairro_mapa     41675 non-null  object        \n",
            " 8   _distrito        41675 non-null  object        \n",
            "dtypes: datetime64[ns](1), float64(1), object(7)\n",
            "memory usage: 3.2+ MB\n"
          ]
        }
      ]
    }
  ]
}