{
  "nbformat": 4,
  "nbformat_minor": 0,
  "metadata": {
    "colab": {
      "name": "rna-covid19-manaus.ipynb",
      "provenance": [],
      "collapsed_sections": [],
      "toc_visible": true,
      "include_colab_link": true
    },
    "kernelspec": {
      "name": "python3",
      "display_name": "Python 3"
    },
    "language_info": {
      "name": "python"
    }
  },
  "cells": [
    {
      "cell_type": "markdown",
      "metadata": {
        "id": "view-in-github",
        "colab_type": "text"
      },
      "source": [
        "<a href=\"https://colab.research.google.com/github/migvanderlei/rna-1-2/blob/main/rna_covid19_manaus.ipynb\" target=\"_parent\"><img src=\"https://colab.research.google.com/assets/colab-badge.svg\" alt=\"Open In Colab\"/></a>"
      ]
    },
    {
      "cell_type": "code",
      "metadata": {
        "id": "Hl3VjwPSobSI"
      },
      "source": [
        "import pandas as pd\n",
        "import seaborn as sns"
      ],
      "execution_count": 172,
      "outputs": []
    },
    {
      "cell_type": "code",
      "metadata": {
        "colab": {
          "base_uri": "https://localhost:8080/"
        },
        "id": "0-33qrHJ92oj",
        "outputId": "72e85d92-642e-438a-d595-f7382c887a04"
      },
      "source": [
        "data = pd.read_csv(\"https://covid19.manaus.am.gov.br/wp-content/uploads/Manaus.csv\", sep=';', \n",
        "                    parse_dates=['_dt_evolucao', '_dt_notificacao', '_dt_sintomas']\n",
        "                   )"
      ],
      "execution_count": 173,
      "outputs": [
        {
          "output_type": "stream",
          "name": "stderr",
          "text": [
            "/usr/local/lib/python3.7/dist-packages/IPython/core/interactiveshell.py:2718: DtypeWarning: Columns (6,7,8,9,10,11,12,13,14,15,16,17,18,22,23,26,27,28,29,30,31) have mixed types.Specify dtype option on import or set low_memory=False.\n",
            "  interactivity=interactivity, compiler=compiler, result=result)\n"
          ]
        }
      ]
    },
    {
      "cell_type": "code",
      "metadata": {
        "colab": {
          "base_uri": "https://localhost:8080/",
          "height": 326
        },
        "id": "Ublsw0at-Get",
        "outputId": "2fbee1cd-15f6-498f-dcd6-a99efd336117"
      },
      "source": [
        "data.head()"
      ],
      "execution_count": 174,
      "outputs": [
        {
          "output_type": "execute_result",
          "data": {
            "text/html": [
              "<div>\n",
              "<style scoped>\n",
              "    .dataframe tbody tr th:only-of-type {\n",
              "        vertical-align: middle;\n",
              "    }\n",
              "\n",
              "    .dataframe tbody tr th {\n",
              "        vertical-align: top;\n",
              "    }\n",
              "\n",
              "    .dataframe thead th {\n",
              "        text-align: right;\n",
              "    }\n",
              "</style>\n",
              "<table border=\"1\" class=\"dataframe\">\n",
              "  <thead>\n",
              "    <tr style=\"text-align: right;\">\n",
              "      <th></th>\n",
              "      <th>_dt_evolucao</th>\n",
              "      <th>_dt_notificacao</th>\n",
              "      <th>_dt_sintomas</th>\n",
              "      <th>_classificacao</th>\n",
              "      <th>_conclusao</th>\n",
              "      <th>_origem</th>\n",
              "      <th>_comorb_cardio</th>\n",
              "      <th>_comorb_cromossomica</th>\n",
              "      <th>_comorb_diabetes</th>\n",
              "      <th>_comorb_hemato</th>\n",
              "      <th>_comorb_hepatica</th>\n",
              "      <th>_comorb_imuno</th>\n",
              "      <th>_comorb_neurologica</th>\n",
              "      <th>_comorb_obessidade</th>\n",
              "      <th>_comorb_renal</th>\n",
              "      <th>_comorb_respiratoria</th>\n",
              "      <th>_criterio</th>\n",
              "      <th>_etnia</th>\n",
              "      <th>_evolução</th>\n",
              "      <th>_idade</th>\n",
              "      <th>_faixa etária</th>\n",
              "      <th>_gestante</th>\n",
              "      <th>_profiss_saude</th>\n",
              "      <th>_raca</th>\n",
              "      <th>_se_notificacao</th>\n",
              "      <th>_sexo</th>\n",
              "      <th>_sintoma_dispneia</th>\n",
              "      <th>_sintoma_febre</th>\n",
              "      <th>_sintoma_garganta</th>\n",
              "      <th>_sintoma_tosse</th>\n",
              "      <th>_sintoma_outros</th>\n",
              "      <th>_srag</th>\n",
              "      <th>_teste_anticorpo</th>\n",
              "      <th>_teste_antigeno</th>\n",
              "      <th>_teste_pcr</th>\n",
              "      <th>_bairro</th>\n",
              "      <th>_bairro_mapa</th>\n",
              "      <th>_distrito</th>\n",
              "      <th>_taxa</th>\n",
              "    </tr>\n",
              "  </thead>\n",
              "  <tbody>\n",
              "    <tr>\n",
              "      <th>0</th>\n",
              "      <td>2020-01-25</td>\n",
              "      <td>2020-03-01</td>\n",
              "      <td>2020-01-01</td>\n",
              "      <td>Descartado</td>\n",
              "      <td>Recuperado</td>\n",
              "      <td>SIVEP,</td>\n",
              "      <td>NaN</td>\n",
              "      <td>NaN</td>\n",
              "      <td>NaN</td>\n",
              "      <td>NaN</td>\n",
              "      <td>NaN</td>\n",
              "      <td>NaN</td>\n",
              "      <td>NaN</td>\n",
              "      <td>NaN</td>\n",
              "      <td>NaN</td>\n",
              "      <td>NaN</td>\n",
              "      <td>Laboratorial</td>\n",
              "      <td>NaN</td>\n",
              "      <td>Internado</td>\n",
              "      <td>4.0</td>\n",
              "      <td>1a - 4a</td>\n",
              "      <td>NaN</td>\n",
              "      <td>NaN</td>\n",
              "      <td>Parda</td>\n",
              "      <td>1.0</td>\n",
              "      <td>M</td>\n",
              "      <td>Sim</td>\n",
              "      <td>Sim</td>\n",
              "      <td>Sim</td>\n",
              "      <td>Sim</td>\n",
              "      <td>Sim</td>\n",
              "      <td>SRAG não especificado</td>\n",
              "      <td>NaN</td>\n",
              "      <td>NaN</td>\n",
              "      <td>NaN</td>\n",
              "      <td>TARUMA</td>\n",
              "      <td>TARUMÃ</td>\n",
              "      <td>OESTE</td>\n",
              "      <td>0,243042897</td>\n",
              "    </tr>\n",
              "    <tr>\n",
              "      <th>1</th>\n",
              "      <td>2020-03-01</td>\n",
              "      <td>2020-03-01</td>\n",
              "      <td>2020-01-01</td>\n",
              "      <td>Descartado</td>\n",
              "      <td>Óbito</td>\n",
              "      <td>SIVEP,</td>\n",
              "      <td>NaN</td>\n",
              "      <td>NaN</td>\n",
              "      <td>NaN</td>\n",
              "      <td>NaN</td>\n",
              "      <td>NaN</td>\n",
              "      <td>NaN</td>\n",
              "      <td>NaN</td>\n",
              "      <td>NaN</td>\n",
              "      <td>NaN</td>\n",
              "      <td>NaN</td>\n",
              "      <td>Laboratorial</td>\n",
              "      <td>NaN</td>\n",
              "      <td>Internado</td>\n",
              "      <td>26.0</td>\n",
              "      <td>20a - 29a</td>\n",
              "      <td>NaN</td>\n",
              "      <td>NaN</td>\n",
              "      <td>Parda</td>\n",
              "      <td>1.0</td>\n",
              "      <td>F</td>\n",
              "      <td>Sim</td>\n",
              "      <td>Sim</td>\n",
              "      <td>Sim</td>\n",
              "      <td>Sim</td>\n",
              "      <td>Sim</td>\n",
              "      <td>Influenza B</td>\n",
              "      <td>NaN</td>\n",
              "      <td>NaN</td>\n",
              "      <td>NaN</td>\n",
              "      <td>TARUMA-ACU</td>\n",
              "      <td>TARUMÃ-AÇÚ</td>\n",
              "      <td>OESTE</td>\n",
              "      <td>0,684931507</td>\n",
              "    </tr>\n",
              "    <tr>\n",
              "      <th>2</th>\n",
              "      <td>2020-05-01</td>\n",
              "      <td>2020-03-01</td>\n",
              "      <td>2020-03-01</td>\n",
              "      <td>Descartado</td>\n",
              "      <td>Óbito</td>\n",
              "      <td>SIVEP,</td>\n",
              "      <td>NaN</td>\n",
              "      <td>NaN</td>\n",
              "      <td>NaN</td>\n",
              "      <td>NaN</td>\n",
              "      <td>NaN</td>\n",
              "      <td>NaN</td>\n",
              "      <td>NaN</td>\n",
              "      <td>NaN</td>\n",
              "      <td>NaN</td>\n",
              "      <td>NaN</td>\n",
              "      <td>Laboratorial</td>\n",
              "      <td>NaN</td>\n",
              "      <td>Internado em UTI</td>\n",
              "      <td>27.0</td>\n",
              "      <td>20a - 29a</td>\n",
              "      <td>NaN</td>\n",
              "      <td>NaN</td>\n",
              "      <td>Parda</td>\n",
              "      <td>1.0</td>\n",
              "      <td>M</td>\n",
              "      <td>Sim</td>\n",
              "      <td>Sim</td>\n",
              "      <td>Sim</td>\n",
              "      <td>Sim</td>\n",
              "      <td>Sim</td>\n",
              "      <td>SRAG não especificado</td>\n",
              "      <td>NaN</td>\n",
              "      <td>NaN</td>\n",
              "      <td>NaN</td>\n",
              "      <td>JORGE TEIXEIRA</td>\n",
              "      <td>JORGE TEIXEIRA</td>\n",
              "      <td>LESTE</td>\n",
              "      <td>0,073137374</td>\n",
              "    </tr>\n",
              "    <tr>\n",
              "      <th>3</th>\n",
              "      <td>2020-01-16</td>\n",
              "      <td>2020-08-01</td>\n",
              "      <td>2020-04-01</td>\n",
              "      <td>Descartado</td>\n",
              "      <td>Óbito</td>\n",
              "      <td>SIVEP,</td>\n",
              "      <td>NaN</td>\n",
              "      <td>NaN</td>\n",
              "      <td>NaN</td>\n",
              "      <td>NaN</td>\n",
              "      <td>NaN</td>\n",
              "      <td>NaN</td>\n",
              "      <td>NaN</td>\n",
              "      <td>NaN</td>\n",
              "      <td>NaN</td>\n",
              "      <td>NaN</td>\n",
              "      <td>Laboratorial</td>\n",
              "      <td>NaN</td>\n",
              "      <td>Internado em UTI</td>\n",
              "      <td>94.0</td>\n",
              "      <td>80a ou +</td>\n",
              "      <td>NaN</td>\n",
              "      <td>NaN</td>\n",
              "      <td>Parda</td>\n",
              "      <td>2.0</td>\n",
              "      <td>M</td>\n",
              "      <td>Sim</td>\n",
              "      <td>Sim</td>\n",
              "      <td>Sim</td>\n",
              "      <td>Sim</td>\n",
              "      <td>Sim</td>\n",
              "      <td>SRAG não especificado</td>\n",
              "      <td>NaN</td>\n",
              "      <td>NaN</td>\n",
              "      <td>NaN</td>\n",
              "      <td>FLORES</td>\n",
              "      <td>FLORES</td>\n",
              "      <td>SUL</td>\n",
              "      <td>0,198306463</td>\n",
              "    </tr>\n",
              "    <tr>\n",
              "      <th>4</th>\n",
              "      <td>2020-11-01</td>\n",
              "      <td>2020-08-01</td>\n",
              "      <td>2020-05-01</td>\n",
              "      <td>Descartado</td>\n",
              "      <td>Recuperado</td>\n",
              "      <td>SIVEP,</td>\n",
              "      <td>NaN</td>\n",
              "      <td>NaN</td>\n",
              "      <td>NaN</td>\n",
              "      <td>NaN</td>\n",
              "      <td>NaN</td>\n",
              "      <td>NaN</td>\n",
              "      <td>NaN</td>\n",
              "      <td>NaN</td>\n",
              "      <td>NaN</td>\n",
              "      <td>NaN</td>\n",
              "      <td>Laboratorial</td>\n",
              "      <td>NaN</td>\n",
              "      <td>Internado</td>\n",
              "      <td>0.0</td>\n",
              "      <td>&lt; 1a</td>\n",
              "      <td>NaN</td>\n",
              "      <td>NaN</td>\n",
              "      <td>Parda</td>\n",
              "      <td>2.0</td>\n",
              "      <td>M</td>\n",
              "      <td>Sim</td>\n",
              "      <td>Sim</td>\n",
              "      <td>NaN</td>\n",
              "      <td>Sim</td>\n",
              "      <td>Sim</td>\n",
              "      <td>SRAG não especificado</td>\n",
              "      <td>NaN</td>\n",
              "      <td>NaN</td>\n",
              "      <td>NaN</td>\n",
              "      <td>CIDADE DE DEUS</td>\n",
              "      <td>CIDADE DE DEUS</td>\n",
              "      <td>NORTE</td>\n",
              "      <td>0,117699678</td>\n",
              "    </tr>\n",
              "  </tbody>\n",
              "</table>\n",
              "</div>"
            ],
            "text/plain": [
              "  _dt_evolucao _dt_notificacao  ... _distrito        _taxa\n",
              "0   2020-01-25      2020-03-01  ...     OESTE  0,243042897\n",
              "1   2020-03-01      2020-03-01  ...     OESTE  0,684931507\n",
              "2   2020-05-01      2020-03-01  ...     LESTE  0,073137374\n",
              "3   2020-01-16      2020-08-01  ...       SUL  0,198306463\n",
              "4   2020-11-01      2020-08-01  ...     NORTE  0,117699678\n",
              "\n",
              "[5 rows x 39 columns]"
            ]
          },
          "metadata": {},
          "execution_count": 174
        }
      ]
    },
    {
      "cell_type": "markdown",
      "metadata": {
        "id": "aGJjrcsgZQ3G"
      },
      "source": [
        "# Visão Geral dos Casos Confirmados"
      ]
    },
    {
      "cell_type": "markdown",
      "metadata": {
        "id": "myGDMeaeZfG1"
      },
      "source": [
        "Filtrando apenas casos confirmados"
      ]
    },
    {
      "cell_type": "code",
      "metadata": {
        "colab": {
          "base_uri": "https://localhost:8080/"
        },
        "id": "12eab1ANZeTi",
        "outputId": "ae21ea49-6098-4159-b983-539a49be9a19"
      },
      "source": [
        "data['_classificacao'].value_counts()"
      ],
      "execution_count": 175,
      "outputs": [
        {
          "output_type": "execute_result",
          "data": {
            "text/plain": [
              "Descartado    126563\n",
              "Confirmado     80420\n",
              "Em análise     37001\n",
              "Name: _classificacao, dtype: int64"
            ]
          },
          "metadata": {},
          "execution_count": 175
        }
      ]
    },
    {
      "cell_type": "code",
      "metadata": {
        "id": "x-OvTBCkZqz8"
      },
      "source": [
        "data = data[data['_classificacao'] == 'Confirmado']"
      ],
      "execution_count": 176,
      "outputs": []
    },
    {
      "cell_type": "code",
      "metadata": {
        "colab": {
          "base_uri": "https://localhost:8080/",
          "height": 377
        },
        "id": "7eb5d8kPZ0hC",
        "outputId": "cc91a582-6489-4ddc-e864-fc08a784af4e"
      },
      "source": [
        "data.sample(5)"
      ],
      "execution_count": 177,
      "outputs": [
        {
          "output_type": "execute_result",
          "data": {
            "text/html": [
              "<div>\n",
              "<style scoped>\n",
              "    .dataframe tbody tr th:only-of-type {\n",
              "        vertical-align: middle;\n",
              "    }\n",
              "\n",
              "    .dataframe tbody tr th {\n",
              "        vertical-align: top;\n",
              "    }\n",
              "\n",
              "    .dataframe thead th {\n",
              "        text-align: right;\n",
              "    }\n",
              "</style>\n",
              "<table border=\"1\" class=\"dataframe\">\n",
              "  <thead>\n",
              "    <tr style=\"text-align: right;\">\n",
              "      <th></th>\n",
              "      <th>_dt_evolucao</th>\n",
              "      <th>_dt_notificacao</th>\n",
              "      <th>_dt_sintomas</th>\n",
              "      <th>_classificacao</th>\n",
              "      <th>_conclusao</th>\n",
              "      <th>_origem</th>\n",
              "      <th>_comorb_cardio</th>\n",
              "      <th>_comorb_cromossomica</th>\n",
              "      <th>_comorb_diabetes</th>\n",
              "      <th>_comorb_hemato</th>\n",
              "      <th>_comorb_hepatica</th>\n",
              "      <th>_comorb_imuno</th>\n",
              "      <th>_comorb_neurologica</th>\n",
              "      <th>_comorb_obessidade</th>\n",
              "      <th>_comorb_renal</th>\n",
              "      <th>_comorb_respiratoria</th>\n",
              "      <th>_criterio</th>\n",
              "      <th>_etnia</th>\n",
              "      <th>_evolução</th>\n",
              "      <th>_idade</th>\n",
              "      <th>_faixa etária</th>\n",
              "      <th>_gestante</th>\n",
              "      <th>_profiss_saude</th>\n",
              "      <th>_raca</th>\n",
              "      <th>_se_notificacao</th>\n",
              "      <th>_sexo</th>\n",
              "      <th>_sintoma_dispneia</th>\n",
              "      <th>_sintoma_febre</th>\n",
              "      <th>_sintoma_garganta</th>\n",
              "      <th>_sintoma_tosse</th>\n",
              "      <th>_sintoma_outros</th>\n",
              "      <th>_srag</th>\n",
              "      <th>_teste_anticorpo</th>\n",
              "      <th>_teste_antigeno</th>\n",
              "      <th>_teste_pcr</th>\n",
              "      <th>_bairro</th>\n",
              "      <th>_bairro_mapa</th>\n",
              "      <th>_distrito</th>\n",
              "      <th>_taxa</th>\n",
              "    </tr>\n",
              "  </thead>\n",
              "  <tbody>\n",
              "    <tr>\n",
              "      <th>29626</th>\n",
              "      <td>NaT</td>\n",
              "      <td>2020-11-09</td>\n",
              "      <td>2020-09-09</td>\n",
              "      <td>Confirmado</td>\n",
              "      <td>NaN</td>\n",
              "      <td>eSUS VE,</td>\n",
              "      <td>NaN</td>\n",
              "      <td>NaN</td>\n",
              "      <td>NaN</td>\n",
              "      <td>NaN</td>\n",
              "      <td>NaN</td>\n",
              "      <td>NaN</td>\n",
              "      <td>NaN</td>\n",
              "      <td>NaN</td>\n",
              "      <td>NaN</td>\n",
              "      <td>NaN</td>\n",
              "      <td>NaN</td>\n",
              "      <td>NaN</td>\n",
              "      <td>NaN</td>\n",
              "      <td>23.0</td>\n",
              "      <td>20a - 29a</td>\n",
              "      <td>NaN</td>\n",
              "      <td>NaN</td>\n",
              "      <td>Parda</td>\n",
              "      <td>37.0</td>\n",
              "      <td>M</td>\n",
              "      <td>NaN</td>\n",
              "      <td>Sim</td>\n",
              "      <td>NaN</td>\n",
              "      <td>Sim</td>\n",
              "      <td>NaN</td>\n",
              "      <td>NaN</td>\n",
              "      <td>1.0</td>\n",
              "      <td>2.0</td>\n",
              "      <td>NaN</td>\n",
              "      <td>COLONIA TERRA NOVA</td>\n",
              "      <td>COLÔNIA TERRA NOVA</td>\n",
              "      <td>NORTE</td>\n",
              "      <td>0,183150183</td>\n",
              "    </tr>\n",
              "    <tr>\n",
              "      <th>189252</th>\n",
              "      <td>2020-01-09</td>\n",
              "      <td>2020-08-17</td>\n",
              "      <td>2020-07-08</td>\n",
              "      <td>Confirmado</td>\n",
              "      <td>Recuperado</td>\n",
              "      <td>eSUS VE,</td>\n",
              "      <td>NaN</td>\n",
              "      <td>NaN</td>\n",
              "      <td>NaN</td>\n",
              "      <td>NaN</td>\n",
              "      <td>NaN</td>\n",
              "      <td>NaN</td>\n",
              "      <td>NaN</td>\n",
              "      <td>NaN</td>\n",
              "      <td>NaN</td>\n",
              "      <td>NaN</td>\n",
              "      <td>NaN</td>\n",
              "      <td>NaN</td>\n",
              "      <td>NaN</td>\n",
              "      <td>56.0</td>\n",
              "      <td>50a - 59a</td>\n",
              "      <td>NaN</td>\n",
              "      <td>NaN</td>\n",
              "      <td>Parda</td>\n",
              "      <td>34.0</td>\n",
              "      <td>M</td>\n",
              "      <td>NaN</td>\n",
              "      <td>Sim</td>\n",
              "      <td>Sim</td>\n",
              "      <td>Sim</td>\n",
              "      <td>NaN</td>\n",
              "      <td>NaN</td>\n",
              "      <td>3.0</td>\n",
              "      <td>NaN</td>\n",
              "      <td>NaN</td>\n",
              "      <td>FLORES</td>\n",
              "      <td>FLORES</td>\n",
              "      <td>SUL</td>\n",
              "      <td>0,198306463</td>\n",
              "    </tr>\n",
              "    <tr>\n",
              "      <th>197856</th>\n",
              "      <td>NaT</td>\n",
              "      <td>2020-02-09</td>\n",
              "      <td>2020-08-20</td>\n",
              "      <td>Confirmado</td>\n",
              "      <td>NaN</td>\n",
              "      <td>eSUS VE,</td>\n",
              "      <td>NaN</td>\n",
              "      <td>NaN</td>\n",
              "      <td>NaN</td>\n",
              "      <td>NaN</td>\n",
              "      <td>NaN</td>\n",
              "      <td>NaN</td>\n",
              "      <td>NaN</td>\n",
              "      <td>NaN</td>\n",
              "      <td>NaN</td>\n",
              "      <td>NaN</td>\n",
              "      <td>NaN</td>\n",
              "      <td>NaN</td>\n",
              "      <td>NaN</td>\n",
              "      <td>50.0</td>\n",
              "      <td>50a - 59a</td>\n",
              "      <td>NaN</td>\n",
              "      <td>NaN</td>\n",
              "      <td>Ignorado</td>\n",
              "      <td>36.0</td>\n",
              "      <td>F</td>\n",
              "      <td>NaN</td>\n",
              "      <td>NaN</td>\n",
              "      <td>NaN</td>\n",
              "      <td>NaN</td>\n",
              "      <td>NaN</td>\n",
              "      <td>NaN</td>\n",
              "      <td>NaN</td>\n",
              "      <td>NaN</td>\n",
              "      <td>1.0</td>\n",
              "      <td>PARQUE DEZ</td>\n",
              "      <td>PARQUE 10 DE NOVEMBRO</td>\n",
              "      <td>SUL</td>\n",
              "      <td>0,228326141</td>\n",
              "    </tr>\n",
              "    <tr>\n",
              "      <th>2528</th>\n",
              "      <td>2020-05-13</td>\n",
              "      <td>2020-05-05</td>\n",
              "      <td>2020-04-26</td>\n",
              "      <td>Confirmado</td>\n",
              "      <td>Recuperado</td>\n",
              "      <td>SIVEP, GAL</td>\n",
              "      <td>NaN</td>\n",
              "      <td>NaN</td>\n",
              "      <td>NaN</td>\n",
              "      <td>NaN</td>\n",
              "      <td>NaN</td>\n",
              "      <td>NaN</td>\n",
              "      <td>NaN</td>\n",
              "      <td>NaN</td>\n",
              "      <td>NaN</td>\n",
              "      <td>NaN</td>\n",
              "      <td>Laboratorial</td>\n",
              "      <td>NaN</td>\n",
              "      <td>Internado</td>\n",
              "      <td>37.0</td>\n",
              "      <td>30a - 39a</td>\n",
              "      <td>NaN</td>\n",
              "      <td>NaN</td>\n",
              "      <td>Parda</td>\n",
              "      <td>19.0</td>\n",
              "      <td>M</td>\n",
              "      <td>Sim</td>\n",
              "      <td>Sim</td>\n",
              "      <td>NaN</td>\n",
              "      <td>Sim</td>\n",
              "      <td>Sim</td>\n",
              "      <td>COVID-19</td>\n",
              "      <td>NaN</td>\n",
              "      <td>NaN</td>\n",
              "      <td>1.0</td>\n",
              "      <td>CIDADE NOVA</td>\n",
              "      <td>CIDADE NOVA</td>\n",
              "      <td>NORTE</td>\n",
              "      <td>0,068152389</td>\n",
              "    </tr>\n",
              "    <tr>\n",
              "      <th>59131</th>\n",
              "      <td>2020-07-30</td>\n",
              "      <td>2020-04-28</td>\n",
              "      <td>2020-04-21</td>\n",
              "      <td>Confirmado</td>\n",
              "      <td>Recuperado</td>\n",
              "      <td>eSUS VE, GAL</td>\n",
              "      <td>NaN</td>\n",
              "      <td>NaN</td>\n",
              "      <td>NaN</td>\n",
              "      <td>NaN</td>\n",
              "      <td>NaN</td>\n",
              "      <td>NaN</td>\n",
              "      <td>NaN</td>\n",
              "      <td>NaN</td>\n",
              "      <td>NaN</td>\n",
              "      <td>Sim</td>\n",
              "      <td>NaN</td>\n",
              "      <td>NaN</td>\n",
              "      <td>NaN</td>\n",
              "      <td>35.0</td>\n",
              "      <td>30a - 39a</td>\n",
              "      <td>NaN</td>\n",
              "      <td>Sim</td>\n",
              "      <td>Parda</td>\n",
              "      <td>18.0</td>\n",
              "      <td>F</td>\n",
              "      <td>NaN</td>\n",
              "      <td>Sim</td>\n",
              "      <td>Sim</td>\n",
              "      <td>Sim</td>\n",
              "      <td>Sim</td>\n",
              "      <td>NaN</td>\n",
              "      <td>NaN</td>\n",
              "      <td>NaN</td>\n",
              "      <td>2.0</td>\n",
              "      <td>REDENCAO</td>\n",
              "      <td>REDENÇÃO</td>\n",
              "      <td>OESTE</td>\n",
              "      <td>0,234763828</td>\n",
              "    </tr>\n",
              "  </tbody>\n",
              "</table>\n",
              "</div>"
            ],
            "text/plain": [
              "       _dt_evolucao _dt_notificacao  ... _distrito        _taxa\n",
              "29626           NaT      2020-11-09  ...     NORTE  0,183150183\n",
              "189252   2020-01-09      2020-08-17  ...       SUL  0,198306463\n",
              "197856          NaT      2020-02-09  ...       SUL  0,228326141\n",
              "2528     2020-05-13      2020-05-05  ...     NORTE  0,068152389\n",
              "59131    2020-07-30      2020-04-28  ...     OESTE  0,234763828\n",
              "\n",
              "[5 rows x 39 columns]"
            ]
          },
          "metadata": {},
          "execution_count": 177
        }
      ]
    },
    {
      "cell_type": "markdown",
      "metadata": {
        "id": "pg7qU-k5aCCz"
      },
      "source": [
        "**Quantos atributos descrevem cada exemplo? Quais são eles?**"
      ]
    },
    {
      "cell_type": "code",
      "metadata": {
        "colab": {
          "base_uri": "https://localhost:8080/"
        },
        "id": "2LWRujb2Z-lK",
        "outputId": "186bd21f-a951-4a78-d34a-bd9a3521c02d"
      },
      "source": [
        "data.info()"
      ],
      "execution_count": 178,
      "outputs": [
        {
          "output_type": "stream",
          "name": "stdout",
          "text": [
            "<class 'pandas.core.frame.DataFrame'>\n",
            "Int64Index: 80420 entries, 130 to 243982\n",
            "Data columns (total 39 columns):\n",
            " #   Column                Non-Null Count  Dtype         \n",
            "---  ------                --------------  -----         \n",
            " 0   _dt_evolucao          47739 non-null  datetime64[ns]\n",
            " 1   _dt_notificacao       80395 non-null  datetime64[ns]\n",
            " 2   _dt_sintomas          78922 non-null  datetime64[ns]\n",
            " 3   _classificacao        80420 non-null  object        \n",
            " 4   _conclusao            42774 non-null  object        \n",
            " 5   _origem               80420 non-null  object        \n",
            " 6   _comorb_cardio        6071 non-null   object        \n",
            " 7   _comorb_cromossomica  185 non-null    object        \n",
            " 8   _comorb_diabetes      4763 non-null   object        \n",
            " 9   _comorb_hemato        100 non-null    object        \n",
            " 10  _comorb_hepatica      84 non-null     object        \n",
            " 11  _comorb_imuno         813 non-null    object        \n",
            " 12  _comorb_neurologica   297 non-null    object        \n",
            " 13  _comorb_obessidade    392 non-null    object        \n",
            " 14  _comorb_renal         550 non-null    object        \n",
            " 15  _comorb_respiratoria  2096 non-null   object        \n",
            " 16  _criterio             8842 non-null   object        \n",
            " 17  _etnia                25 non-null     object        \n",
            " 18  _evolução             11083 non-null  object        \n",
            " 19  _idade                80395 non-null  float64       \n",
            " 20  _faixa etária         80395 non-null  object        \n",
            " 21  _gestante             638 non-null    object        \n",
            " 22  _profiss_saude        6461 non-null   object        \n",
            " 23  _raca                 70367 non-null  object        \n",
            " 24  _se_notificacao       80395 non-null  float64       \n",
            " 25  _sexo                 80301 non-null  object        \n",
            " 26  _sintoma_dispneia     23348 non-null  object        \n",
            " 27  _sintoma_febre        40421 non-null  object        \n",
            " 28  _sintoma_garganta     25097 non-null  object        \n",
            " 29  _sintoma_tosse        40554 non-null  object        \n",
            " 30  _sintoma_outros       36378 non-null  object        \n",
            " 31  _srag                 9095 non-null   object        \n",
            " 32  _teste_anticorpo      52177 non-null  float64       \n",
            " 33  _teste_antigeno       8342 non-null   float64       \n",
            " 34  _teste_pcr            23308 non-null  float64       \n",
            " 35  _bairro               79649 non-null  object        \n",
            " 36  _bairro_mapa          76699 non-null  object        \n",
            " 37  _distrito             76699 non-null  object        \n",
            " 38  _taxa                 76699 non-null  object        \n",
            "dtypes: datetime64[ns](3), float64(5), object(31)\n",
            "memory usage: 24.5+ MB\n"
          ]
        }
      ]
    },
    {
      "cell_type": "markdown",
      "metadata": {
        "id": "ZCdQ-fbthmHH"
      },
      "source": [
        "**Quantos casos confirmados há em Manaus, cumulativamente?**\n",
        "\n",
        "80.420"
      ]
    },
    {
      "cell_type": "markdown",
      "metadata": {
        "id": "C7Vjq9BGhuWb"
      },
      "source": [
        "**A qual período de tempo a base de dados se refere, isto é, qual o registro mais antigo e qual o mais recente? Leve em conta a data de notificação.**"
      ]
    },
    {
      "cell_type": "markdown",
      "metadata": {
        "id": "tVvVduzrjc5D"
      },
      "source": [
        "Caso mais antigo: 04/01/2020"
      ]
    },
    {
      "cell_type": "code",
      "metadata": {
        "colab": {
          "base_uri": "https://localhost:8080/"
        },
        "id": "OmpCVh-chZ-X",
        "outputId": "188da8c1-8a25-4256-9eae-531e686460e9"
      },
      "source": [
        "data['_dt_notificacao'].min()"
      ],
      "execution_count": 179,
      "outputs": [
        {
          "output_type": "execute_result",
          "data": {
            "text/plain": [
              "Timestamp('2020-01-04 00:00:00')"
            ]
          },
          "metadata": {},
          "execution_count": 179
        }
      ]
    },
    {
      "cell_type": "markdown",
      "metadata": {
        "id": "SP31Y2VJjkDE"
      },
      "source": [
        "Caso mais recente: 29/12/2020"
      ]
    },
    {
      "cell_type": "code",
      "metadata": {
        "colab": {
          "base_uri": "https://localhost:8080/"
        },
        "id": "gH-FBk7XjRT4",
        "outputId": "427dfe3c-00b6-465f-8fd7-f3b9b2bde9dc"
      },
      "source": [
        "data['_dt_notificacao'].max()"
      ],
      "execution_count": 180,
      "outputs": [
        {
          "output_type": "execute_result",
          "data": {
            "text/plain": [
              "Timestamp('2020-12-29 00:00:00')"
            ]
          },
          "metadata": {},
          "execution_count": 180
        }
      ]
    },
    {
      "cell_type": "markdown",
      "metadata": {
        "id": "97O8X_QPk9vu"
      },
      "source": [
        "# Limpeza de dados\n",
        "\n",
        "Vamos remover atributos que não são úteis para as análises propostas neste projeto, assim como remover linhas em que aparecem campos vazios (`NaN`, `NaT`)."
      ]
    },
    {
      "cell_type": "markdown",
      "metadata": {
        "id": "6DTphOi1rTfp"
      },
      "source": [
        "Removendo colunas com informações irrelevantes, o que inclui: `_dt_sintomas`, `_profiss_saude`, `_etnia`, `_raca`, `_gestante`, `_se_notificacao`, `_srag`, `_taxa`, `_criterio`, `_origem`, `_evolução` e todas as colunas que começam com `_sintoma` ou `_comorb`.\n"
      ]
    },
    {
      "cell_type": "code",
      "metadata": {
        "id": "1E11lsUuyY9s"
      },
      "source": [
        "data['_teste_anticorpo'].fillna(0, inplace = True)\n",
        "data['_teste_antigeno'].fillna(0, inplace = True)\n",
        "data['_teste_pcr'].fillna(0, inplace = True)\n"
      ],
      "execution_count": 181,
      "outputs": []
    },
    {
      "cell_type": "code",
      "metadata": {
        "id": "2VnJr--HlB4U"
      },
      "source": [
        "columns_to_remove = ['_dt_sintomas', '_profiss_saude', \n",
        "                     '_etnia', '_raca', '_gestante', '_se_notificacao', \n",
        "                     '_srag', '_taxa', '_criterio', '_origem', '_evolução']\n",
        "\n",
        "columns_to_remove += [\n",
        "                        column for column in data.columns \n",
        "                        if column.startswith('_sintoma') \n",
        "                        or column.startswith('_comorb') \n",
        "                      ]"
      ],
      "execution_count": 182,
      "outputs": []
    },
    {
      "cell_type": "code",
      "metadata": {
        "id": "11dyDYhMrKqy"
      },
      "source": [
        "data = data.drop(columns_to_remove, axis=1)"
      ],
      "execution_count": 183,
      "outputs": []
    },
    {
      "cell_type": "markdown",
      "metadata": {
        "id": "jQPXKFQernYu"
      },
      "source": [
        "Removendo todas as linhas que possuem valores nulos, como `NaN` e `NaT` (para os casos de colunas com dados temporais)."
      ]
    },
    {
      "cell_type": "code",
      "metadata": {
        "id": "EfAX2cxErRVm"
      },
      "source": [
        "data = data.dropna()"
      ],
      "execution_count": 184,
      "outputs": []
    },
    {
      "cell_type": "code",
      "metadata": {
        "id": "8ERUjznRvJR9"
      },
      "source": [
        "data.to_csv('Manaus-preprocessed.csv', sep=';')"
      ],
      "execution_count": 185,
      "outputs": []
    },
    {
      "cell_type": "markdown",
      "metadata": {
        "id": "-z_Kw3e3vC0p"
      },
      "source": [
        "# Análises pós-limpeza"
      ]
    },
    {
      "cell_type": "code",
      "metadata": {
        "colab": {
          "base_uri": "https://localhost:8080/"
        },
        "id": "yrbEqAy3r2av",
        "outputId": "14612c39-6ce7-4b28-ace9-37e9c3820b16"
      },
      "source": [
        "data.info()"
      ],
      "execution_count": 186,
      "outputs": [
        {
          "output_type": "stream",
          "name": "stdout",
          "text": [
            "<class 'pandas.core.frame.DataFrame'>\n",
            "Int64Index: 41675 entries, 130 to 225161\n",
            "Data columns (total 13 columns):\n",
            " #   Column            Non-Null Count  Dtype         \n",
            "---  ------            --------------  -----         \n",
            " 0   _dt_evolucao      41675 non-null  datetime64[ns]\n",
            " 1   _dt_notificacao   41675 non-null  datetime64[ns]\n",
            " 2   _classificacao    41675 non-null  object        \n",
            " 3   _conclusao        41675 non-null  object        \n",
            " 4   _idade            41675 non-null  float64       \n",
            " 5   _faixa etária     41675 non-null  object        \n",
            " 6   _sexo             41675 non-null  object        \n",
            " 7   _teste_anticorpo  41675 non-null  float64       \n",
            " 8   _teste_antigeno   41675 non-null  float64       \n",
            " 9   _teste_pcr        41675 non-null  float64       \n",
            " 10  _bairro           41675 non-null  object        \n",
            " 11  _bairro_mapa      41675 non-null  object        \n",
            " 12  _distrito         41675 non-null  object        \n",
            "dtypes: datetime64[ns](2), float64(4), object(7)\n",
            "memory usage: 4.5+ MB\n"
          ]
        }
      ]
    },
    {
      "cell_type": "code",
      "metadata": {
        "id": "eCaDZf35ibh_"
      },
      "source": [
        "data = pd.read_csv('Manaus-preprocessed.csv', sep=';')"
      ],
      "execution_count": 187,
      "outputs": []
    },
    {
      "cell_type": "markdown",
      "metadata": {
        "id": "8k_gTQeBmzcT"
      },
      "source": [
        "**Qual a porcentagem de indivíduos recuperados em relação ao todo?**\n",
        "\n",
        "91,89%"
      ]
    },
    {
      "cell_type": "code",
      "metadata": {
        "colab": {
          "base_uri": "https://localhost:8080/"
        },
        "id": "5X6iVNiFlgYL",
        "outputId": "9157e5d9-cd5c-44c7-a4bf-8a0a97a6d9f3"
      },
      "source": [
        "data[\"_conclusao\"].value_counts(normalize=True) * 100"
      ],
      "execution_count": 188,
      "outputs": [
        {
          "output_type": "execute_result",
          "data": {
            "text/plain": [
              "Recuperado                 91.892022\n",
              "Óbito                       7.973605\n",
              "Óbito por outras causas     0.134373\n",
              "Name: _conclusao, dtype: float64"
            ]
          },
          "metadata": {},
          "execution_count": 188
        }
      ]
    },
    {
      "cell_type": "markdown",
      "metadata": {
        "id": "MWLvfZFCnKmh"
      },
      "source": [
        "**Os casos acometeram mais indivíduos do sexo masculino ou feminino?**\n",
        "\n",
        "Feminino"
      ]
    },
    {
      "cell_type": "code",
      "metadata": {
        "colab": {
          "base_uri": "https://localhost:8080/"
        },
        "id": "D9oSzcY4jtP1",
        "outputId": "59d1a9e0-04ff-43f3-fafa-a766ad76e804"
      },
      "source": [
        "data.groupby(by=\"_sexo\").size()"
      ],
      "execution_count": 189,
      "outputs": [
        {
          "output_type": "execute_result",
          "data": {
            "text/plain": [
              "_sexo\n",
              "F    22357\n",
              "M    19318\n",
              "dtype: int64"
            ]
          },
          "metadata": {},
          "execution_count": 189
        }
      ]
    },
    {
      "cell_type": "markdown",
      "metadata": {
        "id": "8w03n9kmnSVv"
      },
      "source": [
        "**Qual a média e desvio padrão de idade dos indivíduos que contraíram COVID-19? Qual o indivíduo mais jovem e o mais idoso a contraírem tal enfermidade?**\n",
        "\n",
        "Média: 43,48\n",
        "\n",
        "Desvio Padrão: 17,38\n",
        "\n",
        "Indivíduo mais jovem: 0\n",
        "\n",
        "Indivíduo mais idoso: 120"
      ]
    },
    {
      "cell_type": "code",
      "metadata": {
        "colab": {
          "base_uri": "https://localhost:8080/"
        },
        "id": "Jc2Ci_klmKFf",
        "outputId": "8f3bc9c2-6b80-4825-9e00-88e92ed3a987"
      },
      "source": [
        "data['_idade'].mean()"
      ],
      "execution_count": 190,
      "outputs": [
        {
          "output_type": "execute_result",
          "data": {
            "text/plain": [
              "43.47652069586083"
            ]
          },
          "metadata": {},
          "execution_count": 190
        }
      ]
    },
    {
      "cell_type": "code",
      "metadata": {
        "colab": {
          "base_uri": "https://localhost:8080/"
        },
        "id": "Sry4P44GmM-u",
        "outputId": "573594a4-5c57-4f6c-9a3d-62a74a64a44b"
      },
      "source": [
        "data['_idade'].std()"
      ],
      "execution_count": 191,
      "outputs": [
        {
          "output_type": "execute_result",
          "data": {
            "text/plain": [
              "17.376358811650032"
            ]
          },
          "metadata": {},
          "execution_count": 191
        }
      ]
    },
    {
      "cell_type": "code",
      "metadata": {
        "colab": {
          "base_uri": "https://localhost:8080/"
        },
        "id": "CZeg-7CkkvLL",
        "outputId": "b961ce03-0f15-4cc1-ca8e-2b9386bcba71"
      },
      "source": [
        "data['_idade'].min()"
      ],
      "execution_count": 192,
      "outputs": [
        {
          "output_type": "execute_result",
          "data": {
            "text/plain": [
              "0.0"
            ]
          },
          "metadata": {},
          "execution_count": 192
        }
      ]
    },
    {
      "cell_type": "code",
      "metadata": {
        "colab": {
          "base_uri": "https://localhost:8080/"
        },
        "id": "OPgMp29JmB70",
        "outputId": "b122ac2d-8001-4dbe-b9c8-517c06557d12"
      },
      "source": [
        "data['_idade'].max()"
      ],
      "execution_count": 193,
      "outputs": [
        {
          "output_type": "execute_result",
          "data": {
            "text/plain": [
              "120.0"
            ]
          },
          "metadata": {},
          "execution_count": 193
        }
      ]
    },
    {
      "cell_type": "markdown",
      "metadata": {
        "id": "Wlnhr4rantcw"
      },
      "source": [
        "**Qual o bairro com maior incidência de casos?**\n",
        "\n",
        "São José Operário"
      ]
    },
    {
      "cell_type": "code",
      "metadata": {
        "colab": {
          "base_uri": "https://localhost:8080/"
        },
        "id": "QhPtQPr6mFdG",
        "outputId": "c0f34029-ae0c-472c-883e-b86c468f944c"
      },
      "source": [
        "data.groupby(by=\"_bairro_mapa\").size().sort_values(ascending=False)"
      ],
      "execution_count": 194,
      "outputs": [
        {
          "output_type": "execute_result",
          "data": {
            "text/plain": [
              "_bairro_mapa\n",
              "SÃO JOSÉ OPERÁRIO          2351\n",
              "CIDADE NOVA                2318\n",
              "ALVORADA                   2015\n",
              "COMPENSA                   2008\n",
              "JORGE TEIXEIRA             1987\n",
              "                           ... \n",
              "NOSSA SENHORA APARECIDA      76\n",
              "RIO NEGRO                    24\n",
              "BR-174                       24\n",
              "AM-010                        6\n",
              "RIO TARUMÃ-MIRIM              3\n",
              "Length: 67, dtype: int64"
            ]
          },
          "metadata": {},
          "execution_count": 194
        }
      ]
    },
    {
      "cell_type": "markdown",
      "metadata": {
        "id": "fD2w8RaFo6KO"
      },
      "source": [
        "**Quais os três bairros com maior incidência de casos recuperados?**\n",
        "\n",
        "\n",
        "\n",
        "1.   São José Operário\n",
        "2.   Cidade Nova\n",
        "3.   Alvorada\n",
        "\n"
      ]
    },
    {
      "cell_type": "code",
      "metadata": {
        "colab": {
          "base_uri": "https://localhost:8080/"
        },
        "id": "i80S2PYc4HjM",
        "outputId": "71bc7a32-2bdd-416b-9612-f10f010c9983"
      },
      "source": [
        "data.groupby([\"_bairro_mapa\", \"_conclusao\"]).size().sort_values(ascending=False)"
      ],
      "execution_count": 195,
      "outputs": [
        {
          "output_type": "execute_result",
          "data": {
            "text/plain": [
              "_bairro_mapa         _conclusao             \n",
              "SÃO JOSÉ OPERÁRIO    Recuperado                 2234\n",
              "CIDADE NOVA          Recuperado                 2079\n",
              "ALVORADA             Recuperado                 1872\n",
              "JORGE TEIXEIRA       Recuperado                 1863\n",
              "COMPENSA             Recuperado                 1846\n",
              "                                                ... \n",
              "FLORES               Óbito por outras causas       1\n",
              "DA PAZ               Óbito por outras causas       1\n",
              "CRESPO               Óbito por outras causas       1\n",
              "COMPENSA             Óbito por outras causas       1\n",
              "MONTE DAS OLIVEIRAS  Óbito por outras causas       1\n",
              "Length: 166, dtype: int64"
            ]
          },
          "metadata": {},
          "execution_count": 195
        }
      ]
    },
    {
      "cell_type": "markdown",
      "metadata": {
        "id": "GN1Or2FQo53-"
      },
      "source": [
        "**Quais os tipos de testes efetuados, segundo os dados? Indique os dados de maneira quantitativa e percentual.**"
      ]
    },
    {
      "cell_type": "code",
      "metadata": {
        "colab": {
          "base_uri": "https://localhost:8080/"
        },
        "id": "l91qRHx9n0EF",
        "outputId": "691946a4-2294-43c8-c458-7885161163d7"
      },
      "source": [
        "teste_anticorpo = len(data[data[\"_teste_anticorpo\"] > 0])\n",
        "print(\"Teste Anticorpo:\", teste_anticorpo, \"\\nPorcentagem:\",100*teste_anticorpo/len(data))\n",
        "teste_antigeno = len(data[data[\"_teste_antigeno\"] > 0])\n",
        "print(\"\\nTeste Antigeno:\", teste_antigeno, \"\\nPorcentagem:\",100*teste_antigeno/len(data))\n",
        "teste_pcr = len(data[data[\"_teste_pcr\"] > 0])\n",
        "print(\"\\nTeste PCR:\", teste_pcr, \"\\nPorcentagem:\",100*teste_pcr/len(data))"
      ],
      "execution_count": 196,
      "outputs": [
        {
          "output_type": "stream",
          "name": "stdout",
          "text": [
            "Teste Anticorpo: 25962 \n",
            "Porcentagem: 62.29634073185363\n",
            "\n",
            "Teste Antigeno: 4053 \n",
            "Porcentagem: 9.725254949010198\n",
            "\n",
            "Teste PCR: 11798 \n",
            "Porcentagem: 28.309538092381523\n"
          ]
        }
      ]
    },
    {
      "cell_type": "markdown",
      "metadata": {
        "id": "edawlKR55jbP"
      },
      "source": [
        "**Qual taxa de letalidade pode ser calculada a partir do conjunto de dados? Para calcular esta taxa, considere a fração do total de óbitos pelo total de casos;**"
      ]
    },
    {
      "cell_type": "code",
      "metadata": {
        "colab": {
          "base_uri": "https://localhost:8080/"
        },
        "id": "DlbCvd2wzMnW",
        "outputId": "46d1dfeb-a59a-415d-cc3f-6a95f5b973ea"
      },
      "source": [
        "100 * len(data[data[\"_conclusao\"] == \"Óbito\"])/len(data)"
      ],
      "execution_count": 197,
      "outputs": [
        {
          "output_type": "execute_result",
          "data": {
            "text/plain": [
              "7.973605278944211"
            ]
          },
          "metadata": {},
          "execution_count": 197
        }
      ]
    },
    {
      "cell_type": "markdown",
      "metadata": {
        "id": "GRlNpcE26BUu"
      },
      "source": [
        "**Qual o tipo de correlação, mediante coeficiente de correlação de Pearson, entre a idade e o número de casos? Para responder a esta pergunte, agrupe o número de casos por idade e efetue o cálculo de tal coeficiente. Indique, a partir do resultado, a natureza desta correlação, se é positiva ou negativa, e qual sua intensidade.**\n",
        "\n",
        "É uma correlação negativa, com intensidade igual a -0,345"
      ]
    },
    {
      "cell_type": "code",
      "metadata": {
        "id": "KMj4q-6z55Iz"
      },
      "source": [
        "idade = data.groupby(by=\"_idade\").size().reset_index(name='qtde')"
      ],
      "execution_count": 198,
      "outputs": []
    },
    {
      "cell_type": "code",
      "metadata": {
        "colab": {
          "base_uri": "https://localhost:8080/",
          "height": 111
        },
        "id": "TZ_JAHeW6VcN",
        "outputId": "18ebbb55-4992-4f8e-8d2e-ca2924d6157f"
      },
      "source": [
        "idade.corr()"
      ],
      "execution_count": 199,
      "outputs": [
        {
          "output_type": "execute_result",
          "data": {
            "text/html": [
              "<div>\n",
              "<style scoped>\n",
              "    .dataframe tbody tr th:only-of-type {\n",
              "        vertical-align: middle;\n",
              "    }\n",
              "\n",
              "    .dataframe tbody tr th {\n",
              "        vertical-align: top;\n",
              "    }\n",
              "\n",
              "    .dataframe thead th {\n",
              "        text-align: right;\n",
              "    }\n",
              "</style>\n",
              "<table border=\"1\" class=\"dataframe\">\n",
              "  <thead>\n",
              "    <tr style=\"text-align: right;\">\n",
              "      <th></th>\n",
              "      <th>_idade</th>\n",
              "      <th>qtde</th>\n",
              "    </tr>\n",
              "  </thead>\n",
              "  <tbody>\n",
              "    <tr>\n",
              "      <th>_idade</th>\n",
              "      <td>1.000000</td>\n",
              "      <td>-0.345031</td>\n",
              "    </tr>\n",
              "    <tr>\n",
              "      <th>qtde</th>\n",
              "      <td>-0.345031</td>\n",
              "      <td>1.000000</td>\n",
              "    </tr>\n",
              "  </tbody>\n",
              "</table>\n",
              "</div>"
            ],
            "text/plain": [
              "          _idade      qtde\n",
              "_idade  1.000000 -0.345031\n",
              "qtde   -0.345031  1.000000"
            ]
          },
          "metadata": {},
          "execution_count": 199
        }
      ]
    },
    {
      "cell_type": "markdown",
      "metadata": {
        "id": "J0nzWcF9aWxh"
      },
      "source": [
        "# Visualização de Dados"
      ]
    },
    {
      "cell_type": "markdown",
      "metadata": {
        "id": "MTJgHFqWev7H"
      },
      "source": [
        "**1. Percentual de casos por bairro, evidenciando os 10 bairros com maior incidência.**"
      ]
    },
    {
      "cell_type": "code",
      "metadata": {
        "id": "4KA4AYOyadqU"
      },
      "source": [
        "top_10_labels = data[\"_bairro_mapa\"].value_counts().index[:10]\n",
        "hist_data = data[data[\"_bairro_mapa\"].isin(top_10_labels)]['_bairro_mapa'].value_counts(normalize=True) * 100\n",
        "hist_data[\"OUTROS\"] = len(data[~data[\"_bairro_mapa\"].isin(top_10_labels)])/len(data) * 100\n",
        "hist_df = pd.DataFrame(data=\n",
        "                       {\n",
        "                           \"Bairro\": hist_data.index,\n",
        "                           \"Casos confirmados (%)\": hist_data.values\n",
        "                       })"
      ],
      "execution_count": 230,
      "outputs": []
    },
    {
      "cell_type": "code",
      "metadata": {
        "colab": {
          "base_uri": "https://localhost:8080/",
          "height": 390
        },
        "id": "vV7st7IQ3YF_",
        "outputId": "373aceb5-cd11-408f-f6f7-0e3bc179d70b"
      },
      "source": [
        "hist_df"
      ],
      "execution_count": 231,
      "outputs": [
        {
          "output_type": "execute_result",
          "data": {
            "text/html": [
              "<div>\n",
              "<style scoped>\n",
              "    .dataframe tbody tr th:only-of-type {\n",
              "        vertical-align: middle;\n",
              "    }\n",
              "\n",
              "    .dataframe tbody tr th {\n",
              "        vertical-align: top;\n",
              "    }\n",
              "\n",
              "    .dataframe thead th {\n",
              "        text-align: right;\n",
              "    }\n",
              "</style>\n",
              "<table border=\"1\" class=\"dataframe\">\n",
              "  <thead>\n",
              "    <tr style=\"text-align: right;\">\n",
              "      <th></th>\n",
              "      <th>Bairro</th>\n",
              "      <th>Casos confirmados (%)</th>\n",
              "    </tr>\n",
              "  </thead>\n",
              "  <tbody>\n",
              "    <tr>\n",
              "      <th>0</th>\n",
              "      <td>SÃO JOSÉ OPERÁRIO</td>\n",
              "      <td>13.562157</td>\n",
              "    </tr>\n",
              "    <tr>\n",
              "      <th>1</th>\n",
              "      <td>CIDADE NOVA</td>\n",
              "      <td>13.371791</td>\n",
              "    </tr>\n",
              "    <tr>\n",
              "      <th>2</th>\n",
              "      <td>ALVORADA</td>\n",
              "      <td>11.623882</td>\n",
              "    </tr>\n",
              "    <tr>\n",
              "      <th>3</th>\n",
              "      <td>COMPENSA</td>\n",
              "      <td>11.583502</td>\n",
              "    </tr>\n",
              "    <tr>\n",
              "      <th>4</th>\n",
              "      <td>JORGE TEIXEIRA</td>\n",
              "      <td>11.462359</td>\n",
              "    </tr>\n",
              "    <tr>\n",
              "      <th>5</th>\n",
              "      <td>COROADO</td>\n",
              "      <td>10.487453</td>\n",
              "    </tr>\n",
              "    <tr>\n",
              "      <th>6</th>\n",
              "      <td>TARUMÃ</td>\n",
              "      <td>7.695414</td>\n",
              "    </tr>\n",
              "    <tr>\n",
              "      <th>7</th>\n",
              "      <td>FLORES</td>\n",
              "      <td>7.101240</td>\n",
              "    </tr>\n",
              "    <tr>\n",
              "      <th>8</th>\n",
              "      <td>PARQUE 10 DE NOVEMBRO</td>\n",
              "      <td>6.645515</td>\n",
              "    </tr>\n",
              "    <tr>\n",
              "      <th>9</th>\n",
              "      <td>TANCREDO NEVES</td>\n",
              "      <td>6.466686</td>\n",
              "    </tr>\n",
              "    <tr>\n",
              "      <th>10</th>\n",
              "      <td>OUTROS</td>\n",
              "      <td>58.404319</td>\n",
              "    </tr>\n",
              "  </tbody>\n",
              "</table>\n",
              "</div>"
            ],
            "text/plain": [
              "                   Bairro  Casos confirmados (%)\n",
              "0       SÃO JOSÉ OPERÁRIO              13.562157\n",
              "1             CIDADE NOVA              13.371791\n",
              "2                ALVORADA              11.623882\n",
              "3                COMPENSA              11.583502\n",
              "4          JORGE TEIXEIRA              11.462359\n",
              "5                 COROADO              10.487453\n",
              "6                  TARUMÃ               7.695414\n",
              "7                  FLORES               7.101240\n",
              "8   PARQUE 10 DE NOVEMBRO               6.645515\n",
              "9          TANCREDO NEVES               6.466686\n",
              "10                 OUTROS              58.404319"
            ]
          },
          "metadata": {},
          "execution_count": 231
        }
      ]
    },
    {
      "cell_type": "code",
      "metadata": {
        "colab": {
          "base_uri": "https://localhost:8080/",
          "height": 404
        },
        "id": "XJzL7PYDimmi",
        "outputId": "40aebf85-1156-4aaf-cfbb-5434be8c2da4"
      },
      "source": [
        "ax = sns.barplot(data=hist_df, y='Casos confirmados (%)', x='Bairro', color='gray')\n",
        "ax.tick_params(axis='x', rotation=90)"
      ],
      "execution_count": 232,
      "outputs": [
        {
          "output_type": "display_data",
          "data": {
            "image/png": "[encoded data removed]",
            "text/plain": [
              "<Figure size 432x288 with 1 Axes>"
            ]
          },
          "metadata": {
            "needs_background": "light"
          }
        }
      ]
    },
    {
      "cell_type": "markdown",
      "metadata": {
        "id": "ZTCmBBsIqd0j"
      },
      "source": [
        "**2. Boxplot de idade dos pacientes confirmados, por sexo**"
      ]
    },
    {
      "cell_type": "code",
      "metadata": {
        "colab": {
          "base_uri": "https://localhost:8080/",
          "height": 296
        },
        "id": "AKPjBu3qqpDO",
        "outputId": "b1e8dcf0-fac8-443d-d533-fbd0f336f676"
      },
      "source": [
        "ax = sns.boxplot(y=\"_sexo\", x=\"_idade\", data=data,)\n",
        "ax.set_xlabel(\"Idade\")\n",
        "ax.set_ylabel(\"Sexo\")\n",
        "ax"
      ],
      "execution_count": 233,
      "outputs": [
        {
          "output_type": "execute_result",
          "data": {
            "text/plain": [
              "<matplotlib.axes._subplots.AxesSubplot at 0x7fb9153e0cd0>"
            ]
          },
          "metadata": {},
          "execution_count": 233
        },
        {
          "output_type": "display_data",
          "data": {
            "image/png": "[encoded data removed]",
            "text/plain": [
              "<Figure size 432x288 with 1 Axes>"
            ]
          },
          "metadata": {
            "needs_background": "light"
          }
        }
      ]
    },
    {
      "cell_type": "markdown",
      "metadata": {
        "id": "qM8N-w8Xu4yw"
      },
      "source": [
        "3. Número de novos casos nos últimos 10 dias presentes na base de dados.\n"
      ]
    },
    {
      "cell_type": "code",
      "metadata": {
        "id": "ckgmXeGDt-Wc"
      },
      "source": [
        "last_10_days = data['_dt_notificacao'].unique().tolist()\n",
        "last_10_days.sort()\n",
        "last_10_days = last_10_days[-10:]"
      ],
      "execution_count": 306,
      "outputs": []
    },
    {
      "cell_type": "code",
      "metadata": {
        "id": "9LF66pUgwW4J"
      },
      "source": [
        "values_last_10_days = data[data['_dt_notificacao'].isin(last_10_days)]\n",
        "values_last_10_days = values_last_10_days['_dt_notificacao'].value_counts().values\n",
        "\n",
        "df_last_10_days = pd.DataFrame({\n",
        "    'Dia': last_10_days,\n",
        "    'Número de Casos': values_last_10_days\n",
        "})"
      ],
      "execution_count": 235,
      "outputs": []
    },
    {
      "cell_type": "code",
      "metadata": {
        "colab": {
          "base_uri": "https://localhost:8080/",
          "height": 296
        },
        "id": "OxTr58ntxpZo",
        "outputId": "18f25a3a-f3d3-4714-90b6-b2d27996a543"
      },
      "source": [
        "sns.barplot(data=df_last_10_days, y='Dia', x=\"Número de Casos\", color='gray')"
      ],
      "execution_count": 236,
      "outputs": [
        {
          "output_type": "execute_result",
          "data": {
            "text/plain": [
              "<matplotlib.axes._subplots.AxesSubplot at 0x7fb9112dcb50>"
            ]
          },
          "metadata": {},
          "execution_count": 236
        },
        {
          "output_type": "display_data",
          "data": {
            "image/png": "[encoded data removed]",
            "text/plain": [
              "<Figure size 432x288 with 1 Axes>"
            ]
          },
          "metadata": {
            "needs_background": "light"
          }
        }
      ]
    },
    {
      "cell_type": "markdown",
      "metadata": {
        "id": "nEmRRJGzyd8_"
      },
      "source": [
        "**4. Número de casos recuperados nos últimos 10 dias presentes na base de dados.**\n",
        "\n",
        "\n",
        "\n",
        "> OBS: O intervalo considerado vai de 29/11/2020 até 11/12/2020, pois após essa data, não existem registros de casos recuperados na base.\n",
        "\n"
      ]
    },
    {
      "cell_type": "code",
      "metadata": {
        "colab": {
          "base_uri": "https://localhost:8080/"
        },
        "id": "k9noM3zCCwvu",
        "outputId": "3d3d34da-eb69-4b89-e3cc-8cab5fcc6804"
      },
      "source": [
        "values_last_10_days = data[data['_dt_evolucao'].isin(last_10_days)]\n",
        "values_last_10_days = values_last_10_days['_conclusao'].value_counts()\n",
        "\n",
        "values_last_10_days"
      ],
      "execution_count": 317,
      "outputs": [
        {
          "output_type": "execute_result",
          "data": {
            "text/plain": [
              "Óbito                      86\n",
              "Óbito por outras causas     2\n",
              "Name: _conclusao, dtype: int64"
            ]
          },
          "metadata": {},
          "execution_count": 317
        }
      ]
    },
    {
      "cell_type": "code",
      "metadata": {
        "id": "chrZsfUjyksb"
      },
      "source": [
        "last_10_days_recuperados = data[data['_conclusao'] == 'Recuperado']['_dt_evolucao'].unique().tolist()\n",
        "last_10_days_recuperados.sort()\n",
        "last_10_days_recuperados = last_10_days_recuperados[-10:]\n",
        "\n",
        "values_last_10_days = data[data['_dt_evolucao'].isin(last_10_days_recuperados)]\n",
        "\n",
        "values_last_10_days = values_last_10_days['_dt_evolucao'].value_counts()\n",
        "\n",
        "df_last_10_days = pd.DataFrame({\n",
        "    'Dia': last_10_days_recuperados,\n",
        "    'Número de Casos Recuperados': values_last_10_days\n",
        "})"
      ],
      "execution_count": 304,
      "outputs": []
    },
    {
      "cell_type": "code",
      "metadata": {
        "colab": {
          "base_uri": "https://localhost:8080/",
          "height": 297
        },
        "id": "bQUNqNR74LEl",
        "outputId": "9989b9af-06d3-4858-92ec-63fe91999902"
      },
      "source": [
        "sns.barplot(data=df_last_10_days, y='Dia', x=\"Número de Casos Recuperados\", color='gray')"
      ],
      "execution_count": 305,
      "outputs": [
        {
          "output_type": "execute_result",
          "data": {
            "text/plain": [
              "<matplotlib.axes._subplots.AxesSubplot at 0x7fb910fe7290>"
            ]
          },
          "metadata": {},
          "execution_count": 305
        },
        {
          "output_type": "display_data",
          "data": {
            "image/png": "[encoded data removed]",
            "text/plain": [
              "<Figure size 432x288 with 1 Axes>"
            ]
          },
          "metadata": {
            "needs_background": "light"
          }
        }
      ]
    }
  ]
}